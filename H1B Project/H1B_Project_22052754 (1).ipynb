{
 "cells": [
  {
   "cell_type": "markdown",
   "metadata": {},
   "source": [
    "# SUBMITTED BY 22052754"
   ]
  },
  {
   "cell_type": "markdown",
   "metadata": {},
   "source": [
    "## Write Code in Empty cells don't use existing cells otherwise output will be earesed use new cells to write code"
   ]
  },
  {
   "cell_type": "markdown",
   "metadata": {},
   "source": [
    "#### Import Related Libraries"
   ]
  },
  {
   "cell_type": "code",
   "execution_count": 1,
   "metadata": {},
   "outputs": [],
   "source": [
    "import pandas as pd\n",
    "import numpy as np\n",
    "import matplotlib.pyplot as plt\n",
    "import seaborn as sns\n",
    "%matplotlib inline"
   ]
  },
  {
   "cell_type": "markdown",
   "metadata": {},
   "source": [
    "download data set from this link\n",
    "\n",
    "[h1b.csv](https://drive.google.com/file/d/1GHotByxQaCXKPAuNI7dqIMiOMdmnkOzN/view?usp=sharing)"
   ]
  },
  {
   "cell_type": "markdown",
   "metadata": {},
   "source": [
    "### read csv in Pandas DataFrame "
   ]
  },
  {
   "cell_type": "code",
   "execution_count": 2,
   "metadata": {},
   "outputs": [],
   "source": [
    "df=pd.read_csv(\"h1b.csv\")"
   ]
  },
  {
   "cell_type": "code",
   "execution_count": 3,
   "metadata": {},
   "outputs": [
    {
     "data": {
      "text/html": [
       "<div>\n",
       "<style scoped>\n",
       "    .dataframe tbody tr th:only-of-type {\n",
       "        vertical-align: middle;\n",
       "    }\n",
       "\n",
       "    .dataframe tbody tr th {\n",
       "        vertical-align: top;\n",
       "    }\n",
       "\n",
       "    .dataframe thead th {\n",
       "        text-align: right;\n",
       "    }\n",
       "</style>\n",
       "<table border=\"1\" class=\"dataframe\">\n",
       "  <thead>\n",
       "    <tr style=\"text-align: right;\">\n",
       "      <th></th>\n",
       "      <th>Unnamed: 0</th>\n",
       "      <th>CASE_STATUS</th>\n",
       "      <th>EMPLOYER_NAME</th>\n",
       "      <th>SOC_NAME</th>\n",
       "      <th>JOB_TITLE</th>\n",
       "      <th>FULL_TIME_POSITION</th>\n",
       "      <th>PREVAILING_WAGE</th>\n",
       "      <th>YEAR</th>\n",
       "      <th>WORKSITE</th>\n",
       "      <th>lon</th>\n",
       "      <th>lat</th>\n",
       "    </tr>\n",
       "  </thead>\n",
       "  <tbody>\n",
       "    <tr>\n",
       "      <th>0</th>\n",
       "      <td>1</td>\n",
       "      <td>CERTIFIED-WITHDRAWN</td>\n",
       "      <td>UNIVERSITY OF MICHIGAN</td>\n",
       "      <td>BIOCHEMISTS AND BIOPHYSICISTS</td>\n",
       "      <td>POSTDOCTORAL RESEARCH FELLOW</td>\n",
       "      <td>N</td>\n",
       "      <td>36067.0</td>\n",
       "      <td>2016.0</td>\n",
       "      <td>ANN ARBOR, MICHIGAN</td>\n",
       "      <td>-83.743038</td>\n",
       "      <td>42.280826</td>\n",
       "    </tr>\n",
       "    <tr>\n",
       "      <th>1</th>\n",
       "      <td>2</td>\n",
       "      <td>CERTIFIED-WITHDRAWN</td>\n",
       "      <td>GOODMAN NETWORKS, INC.</td>\n",
       "      <td>CHIEF EXECUTIVES</td>\n",
       "      <td>CHIEF OPERATING OFFICER</td>\n",
       "      <td>Y</td>\n",
       "      <td>242674.0</td>\n",
       "      <td>2016.0</td>\n",
       "      <td>PLANO, TEXAS</td>\n",
       "      <td>-96.698886</td>\n",
       "      <td>33.019843</td>\n",
       "    </tr>\n",
       "    <tr>\n",
       "      <th>2</th>\n",
       "      <td>3</td>\n",
       "      <td>CERTIFIED-WITHDRAWN</td>\n",
       "      <td>PORTS AMERICA GROUP, INC.</td>\n",
       "      <td>CHIEF EXECUTIVES</td>\n",
       "      <td>CHIEF PROCESS OFFICER</td>\n",
       "      <td>Y</td>\n",
       "      <td>193066.0</td>\n",
       "      <td>2016.0</td>\n",
       "      <td>JERSEY CITY, NEW JERSEY</td>\n",
       "      <td>-74.077642</td>\n",
       "      <td>40.728158</td>\n",
       "    </tr>\n",
       "    <tr>\n",
       "      <th>3</th>\n",
       "      <td>4</td>\n",
       "      <td>CERTIFIED-WITHDRAWN</td>\n",
       "      <td>GATES CORPORATION, A WHOLLY-OWNED SUBSIDIARY O...</td>\n",
       "      <td>CHIEF EXECUTIVES</td>\n",
       "      <td>REGIONAL PRESIDEN, AMERICAS</td>\n",
       "      <td>Y</td>\n",
       "      <td>220314.0</td>\n",
       "      <td>2016.0</td>\n",
       "      <td>DENVER, COLORADO</td>\n",
       "      <td>-104.990251</td>\n",
       "      <td>39.739236</td>\n",
       "    </tr>\n",
       "    <tr>\n",
       "      <th>4</th>\n",
       "      <td>5</td>\n",
       "      <td>WITHDRAWN</td>\n",
       "      <td>PEABODY INVESTMENTS CORP.</td>\n",
       "      <td>CHIEF EXECUTIVES</td>\n",
       "      <td>PRESIDENT MONGOLIA AND INDIA</td>\n",
       "      <td>Y</td>\n",
       "      <td>157518.4</td>\n",
       "      <td>2016.0</td>\n",
       "      <td>ST. LOUIS, MISSOURI</td>\n",
       "      <td>-90.199404</td>\n",
       "      <td>38.627003</td>\n",
       "    </tr>\n",
       "    <tr>\n",
       "      <th>...</th>\n",
       "      <td>...</td>\n",
       "      <td>...</td>\n",
       "      <td>...</td>\n",
       "      <td>...</td>\n",
       "      <td>...</td>\n",
       "      <td>...</td>\n",
       "      <td>...</td>\n",
       "      <td>...</td>\n",
       "      <td>...</td>\n",
       "      <td>...</td>\n",
       "      <td>...</td>\n",
       "    </tr>\n",
       "    <tr>\n",
       "      <th>3002453</th>\n",
       "      <td>3002454</td>\n",
       "      <td>NaN</td>\n",
       "      <td>NaN</td>\n",
       "      <td>NaN</td>\n",
       "      <td>NaN</td>\n",
       "      <td>NaN</td>\n",
       "      <td>NaN</td>\n",
       "      <td>NaN</td>\n",
       "      <td>NYC, NEW YORK</td>\n",
       "      <td>-74.005941</td>\n",
       "      <td>40.712784</td>\n",
       "    </tr>\n",
       "    <tr>\n",
       "      <th>3002454</th>\n",
       "      <td>3002455</td>\n",
       "      <td>NaN</td>\n",
       "      <td>NaN</td>\n",
       "      <td>NaN</td>\n",
       "      <td>NaN</td>\n",
       "      <td>NaN</td>\n",
       "      <td>NaN</td>\n",
       "      <td>NaN</td>\n",
       "      <td>SOUTH LAKE, TEXAS</td>\n",
       "      <td>-97.134178</td>\n",
       "      <td>32.941236</td>\n",
       "    </tr>\n",
       "    <tr>\n",
       "      <th>3002455</th>\n",
       "      <td>3002456</td>\n",
       "      <td>NaN</td>\n",
       "      <td>NaN</td>\n",
       "      <td>NaN</td>\n",
       "      <td>NaN</td>\n",
       "      <td>NaN</td>\n",
       "      <td>NaN</td>\n",
       "      <td>NaN</td>\n",
       "      <td>CLINTON, NEW JERSEY</td>\n",
       "      <td>-74.909890</td>\n",
       "      <td>40.636768</td>\n",
       "    </tr>\n",
       "    <tr>\n",
       "      <th>3002456</th>\n",
       "      <td>3002457</td>\n",
       "      <td>NaN</td>\n",
       "      <td>NaN</td>\n",
       "      <td>NaN</td>\n",
       "      <td>NaN</td>\n",
       "      <td>NaN</td>\n",
       "      <td>NaN</td>\n",
       "      <td>NaN</td>\n",
       "      <td>OWINGS MILL, MARYLAND</td>\n",
       "      <td>-76.780253</td>\n",
       "      <td>39.419550</td>\n",
       "    </tr>\n",
       "    <tr>\n",
       "      <th>3002457</th>\n",
       "      <td>3002458</td>\n",
       "      <td>NaN</td>\n",
       "      <td>NaN</td>\n",
       "      <td>NaN</td>\n",
       "      <td>NaN</td>\n",
       "      <td>NaN</td>\n",
       "      <td>NaN</td>\n",
       "      <td>NaN</td>\n",
       "      <td>ALTANTA, GEORGIA</td>\n",
       "      <td>-84.387982</td>\n",
       "      <td>33.748995</td>\n",
       "    </tr>\n",
       "  </tbody>\n",
       "</table>\n",
       "<p>3002458 rows × 11 columns</p>\n",
       "</div>"
      ],
      "text/plain": [
       "         Unnamed: 0          CASE_STATUS  \\\n",
       "0                 1  CERTIFIED-WITHDRAWN   \n",
       "1                 2  CERTIFIED-WITHDRAWN   \n",
       "2                 3  CERTIFIED-WITHDRAWN   \n",
       "3                 4  CERTIFIED-WITHDRAWN   \n",
       "4                 5            WITHDRAWN   \n",
       "...             ...                  ...   \n",
       "3002453     3002454                  NaN   \n",
       "3002454     3002455                  NaN   \n",
       "3002455     3002456                  NaN   \n",
       "3002456     3002457                  NaN   \n",
       "3002457     3002458                  NaN   \n",
       "\n",
       "                                             EMPLOYER_NAME  \\\n",
       "0                                   UNIVERSITY OF MICHIGAN   \n",
       "1                                   GOODMAN NETWORKS, INC.   \n",
       "2                                PORTS AMERICA GROUP, INC.   \n",
       "3        GATES CORPORATION, A WHOLLY-OWNED SUBSIDIARY O...   \n",
       "4                                PEABODY INVESTMENTS CORP.   \n",
       "...                                                    ...   \n",
       "3002453                                                NaN   \n",
       "3002454                                                NaN   \n",
       "3002455                                                NaN   \n",
       "3002456                                                NaN   \n",
       "3002457                                                NaN   \n",
       "\n",
       "                              SOC_NAME                     JOB_TITLE  \\\n",
       "0        BIOCHEMISTS AND BIOPHYSICISTS  POSTDOCTORAL RESEARCH FELLOW   \n",
       "1                     CHIEF EXECUTIVES       CHIEF OPERATING OFFICER   \n",
       "2                     CHIEF EXECUTIVES         CHIEF PROCESS OFFICER   \n",
       "3                     CHIEF EXECUTIVES   REGIONAL PRESIDEN, AMERICAS   \n",
       "4                     CHIEF EXECUTIVES  PRESIDENT MONGOLIA AND INDIA   \n",
       "...                                ...                           ...   \n",
       "3002453                            NaN                           NaN   \n",
       "3002454                            NaN                           NaN   \n",
       "3002455                            NaN                           NaN   \n",
       "3002456                            NaN                           NaN   \n",
       "3002457                            NaN                           NaN   \n",
       "\n",
       "        FULL_TIME_POSITION  PREVAILING_WAGE    YEAR                 WORKSITE  \\\n",
       "0                        N          36067.0  2016.0      ANN ARBOR, MICHIGAN   \n",
       "1                        Y         242674.0  2016.0             PLANO, TEXAS   \n",
       "2                        Y         193066.0  2016.0  JERSEY CITY, NEW JERSEY   \n",
       "3                        Y         220314.0  2016.0         DENVER, COLORADO   \n",
       "4                        Y         157518.4  2016.0      ST. LOUIS, MISSOURI   \n",
       "...                    ...              ...     ...                      ...   \n",
       "3002453                NaN              NaN     NaN            NYC, NEW YORK   \n",
       "3002454                NaN              NaN     NaN        SOUTH LAKE, TEXAS   \n",
       "3002455                NaN              NaN     NaN      CLINTON, NEW JERSEY   \n",
       "3002456                NaN              NaN     NaN    OWINGS MILL, MARYLAND   \n",
       "3002457                NaN              NaN     NaN         ALTANTA, GEORGIA   \n",
       "\n",
       "                lon        lat  \n",
       "0        -83.743038  42.280826  \n",
       "1        -96.698886  33.019843  \n",
       "2        -74.077642  40.728158  \n",
       "3       -104.990251  39.739236  \n",
       "4        -90.199404  38.627003  \n",
       "...             ...        ...  \n",
       "3002453  -74.005941  40.712784  \n",
       "3002454  -97.134178  32.941236  \n",
       "3002455  -74.909890  40.636768  \n",
       "3002456  -76.780253  39.419550  \n",
       "3002457  -84.387982  33.748995  \n",
       "\n",
       "[3002458 rows x 11 columns]"
      ]
     },
     "execution_count": 3,
     "metadata": {},
     "output_type": "execute_result"
    }
   ],
   "source": [
    "df"
   ]
  },
  {
   "cell_type": "markdown",
   "metadata": {},
   "source": [
    "### show columns"
   ]
  },
  {
   "cell_type": "code",
   "execution_count": 4,
   "metadata": {},
   "outputs": [],
   "source": [
    "c=df.columns"
   ]
  },
  {
   "cell_type": "code",
   "execution_count": 5,
   "metadata": {},
   "outputs": [
    {
     "data": {
      "text/plain": [
       "Index(['Unnamed: 0', 'CASE_STATUS', 'EMPLOYER_NAME', 'SOC_NAME', 'JOB_TITLE',\n",
       "       'FULL_TIME_POSITION', 'PREVAILING_WAGE', 'YEAR', 'WORKSITE', 'lon',\n",
       "       'lat'],\n",
       "      dtype='object')"
      ]
     },
     "execution_count": 5,
     "metadata": {},
     "output_type": "execute_result"
    }
   ],
   "source": [
    "c"
   ]
  },
  {
   "cell_type": "markdown",
   "metadata": {},
   "source": [
    "### delete 'unnamed:0'  column from data set"
   ]
  },
  {
   "cell_type": "code",
   "execution_count": 6,
   "metadata": {},
   "outputs": [],
   "source": [
    "df.drop(columns=['Unnamed: 0'],inplace=True)"
   ]
  },
  {
   "cell_type": "code",
   "execution_count": 7,
   "metadata": {},
   "outputs": [
    {
     "data": {
      "text/plain": [
       "Index(['CASE_STATUS', 'EMPLOYER_NAME', 'SOC_NAME', 'JOB_TITLE',\n",
       "       'FULL_TIME_POSITION', 'PREVAILING_WAGE', 'YEAR', 'WORKSITE', 'lon',\n",
       "       'lat'],\n",
       "      dtype='object')"
      ]
     },
     "execution_count": 7,
     "metadata": {},
     "output_type": "execute_result"
    }
   ],
   "source": [
    "df.columns\n"
   ]
  },
  {
   "cell_type": "markdown",
   "metadata": {},
   "source": [
    "## check no of rows in data frame"
   ]
  },
  {
   "cell_type": "code",
   "execution_count": 8,
   "metadata": {},
   "outputs": [],
   "source": [
    "num_rows = df.shape[0]"
   ]
  },
  {
   "cell_type": "code",
   "execution_count": 9,
   "metadata": {},
   "outputs": [
    {
     "data": {
      "text/plain": [
       "3002458"
      ]
     },
     "execution_count": 9,
     "metadata": {},
     "output_type": "execute_result"
    }
   ],
   "source": [
    "num_rows"
   ]
  },
  {
   "cell_type": "markdown",
   "metadata": {},
   "source": [
    "## Drop All rows which has any NA value and show first 5 rows after this operation"
   ]
  },
  {
   "cell_type": "code",
   "execution_count": 10,
   "metadata": {},
   "outputs": [],
   "source": [
    "df.dropna(inplace=True)\n",
    "df.reset_index(drop=True, inplace=True) "
   ]
  },
  {
   "cell_type": "code",
   "execution_count": 11,
   "metadata": {
    "scrolled": true
   },
   "outputs": [
    {
     "data": {
      "text/html": [
       "<div>\n",
       "<style scoped>\n",
       "    .dataframe tbody tr th:only-of-type {\n",
       "        vertical-align: middle;\n",
       "    }\n",
       "\n",
       "    .dataframe tbody tr th {\n",
       "        vertical-align: top;\n",
       "    }\n",
       "\n",
       "    .dataframe thead th {\n",
       "        text-align: right;\n",
       "    }\n",
       "</style>\n",
       "<table border=\"1\" class=\"dataframe\">\n",
       "  <thead>\n",
       "    <tr style=\"text-align: right;\">\n",
       "      <th></th>\n",
       "      <th>CASE_STATUS</th>\n",
       "      <th>EMPLOYER_NAME</th>\n",
       "      <th>SOC_NAME</th>\n",
       "      <th>JOB_TITLE</th>\n",
       "      <th>FULL_TIME_POSITION</th>\n",
       "      <th>PREVAILING_WAGE</th>\n",
       "      <th>YEAR</th>\n",
       "      <th>WORKSITE</th>\n",
       "      <th>lon</th>\n",
       "      <th>lat</th>\n",
       "    </tr>\n",
       "  </thead>\n",
       "  <tbody>\n",
       "    <tr>\n",
       "      <th>0</th>\n",
       "      <td>CERTIFIED-WITHDRAWN</td>\n",
       "      <td>UNIVERSITY OF MICHIGAN</td>\n",
       "      <td>BIOCHEMISTS AND BIOPHYSICISTS</td>\n",
       "      <td>POSTDOCTORAL RESEARCH FELLOW</td>\n",
       "      <td>N</td>\n",
       "      <td>36067.0</td>\n",
       "      <td>2016.0</td>\n",
       "      <td>ANN ARBOR, MICHIGAN</td>\n",
       "      <td>-83.743038</td>\n",
       "      <td>42.280826</td>\n",
       "    </tr>\n",
       "    <tr>\n",
       "      <th>1</th>\n",
       "      <td>CERTIFIED-WITHDRAWN</td>\n",
       "      <td>GOODMAN NETWORKS, INC.</td>\n",
       "      <td>CHIEF EXECUTIVES</td>\n",
       "      <td>CHIEF OPERATING OFFICER</td>\n",
       "      <td>Y</td>\n",
       "      <td>242674.0</td>\n",
       "      <td>2016.0</td>\n",
       "      <td>PLANO, TEXAS</td>\n",
       "      <td>-96.698886</td>\n",
       "      <td>33.019843</td>\n",
       "    </tr>\n",
       "    <tr>\n",
       "      <th>2</th>\n",
       "      <td>CERTIFIED-WITHDRAWN</td>\n",
       "      <td>PORTS AMERICA GROUP, INC.</td>\n",
       "      <td>CHIEF EXECUTIVES</td>\n",
       "      <td>CHIEF PROCESS OFFICER</td>\n",
       "      <td>Y</td>\n",
       "      <td>193066.0</td>\n",
       "      <td>2016.0</td>\n",
       "      <td>JERSEY CITY, NEW JERSEY</td>\n",
       "      <td>-74.077642</td>\n",
       "      <td>40.728158</td>\n",
       "    </tr>\n",
       "    <tr>\n",
       "      <th>3</th>\n",
       "      <td>CERTIFIED-WITHDRAWN</td>\n",
       "      <td>GATES CORPORATION, A WHOLLY-OWNED SUBSIDIARY O...</td>\n",
       "      <td>CHIEF EXECUTIVES</td>\n",
       "      <td>REGIONAL PRESIDEN, AMERICAS</td>\n",
       "      <td>Y</td>\n",
       "      <td>220314.0</td>\n",
       "      <td>2016.0</td>\n",
       "      <td>DENVER, COLORADO</td>\n",
       "      <td>-104.990251</td>\n",
       "      <td>39.739236</td>\n",
       "    </tr>\n",
       "    <tr>\n",
       "      <th>4</th>\n",
       "      <td>WITHDRAWN</td>\n",
       "      <td>PEABODY INVESTMENTS CORP.</td>\n",
       "      <td>CHIEF EXECUTIVES</td>\n",
       "      <td>PRESIDENT MONGOLIA AND INDIA</td>\n",
       "      <td>Y</td>\n",
       "      <td>157518.4</td>\n",
       "      <td>2016.0</td>\n",
       "      <td>ST. LOUIS, MISSOURI</td>\n",
       "      <td>-90.199404</td>\n",
       "      <td>38.627003</td>\n",
       "    </tr>\n",
       "    <tr>\n",
       "      <th>...</th>\n",
       "      <td>...</td>\n",
       "      <td>...</td>\n",
       "      <td>...</td>\n",
       "      <td>...</td>\n",
       "      <td>...</td>\n",
       "      <td>...</td>\n",
       "      <td>...</td>\n",
       "      <td>...</td>\n",
       "      <td>...</td>\n",
       "      <td>...</td>\n",
       "    </tr>\n",
       "    <tr>\n",
       "      <th>2877760</th>\n",
       "      <td>WITHDRAWN</td>\n",
       "      <td>ORACLE AMERICA, INC.</td>\n",
       "      <td>Software Developers, Applications</td>\n",
       "      <td>SOFTWARE ENGINEER (SOFTWARE DEVELOPER 2)</td>\n",
       "      <td>Y</td>\n",
       "      <td>64800.0</td>\n",
       "      <td>2011.0</td>\n",
       "      <td>REDWOOD SHORES, CALIFORNIA</td>\n",
       "      <td>-122.245536</td>\n",
       "      <td>37.536413</td>\n",
       "    </tr>\n",
       "    <tr>\n",
       "      <th>2877761</th>\n",
       "      <td>WITHDRAWN</td>\n",
       "      <td>B &amp; D DENTAL CORP.</td>\n",
       "      <td>Materials Scientists</td>\n",
       "      <td>MATERIALS SCIENTIST</td>\n",
       "      <td>N</td>\n",
       "      <td>70553.6</td>\n",
       "      <td>2011.0</td>\n",
       "      <td>WEST VALLEY, UTAH</td>\n",
       "      <td>-112.001050</td>\n",
       "      <td>40.691613</td>\n",
       "    </tr>\n",
       "    <tr>\n",
       "      <th>2877762</th>\n",
       "      <td>WITHDRAWN</td>\n",
       "      <td>MEDTECH STAFFING &amp; SOLUTIONS, INC</td>\n",
       "      <td>Market Research Analysts and Marketing Special...</td>\n",
       "      <td>MARKET RESEARCH ANALYST</td>\n",
       "      <td>Y</td>\n",
       "      <td>33800.0</td>\n",
       "      <td>2011.0</td>\n",
       "      <td>AKRON, OHIO</td>\n",
       "      <td>-81.519005</td>\n",
       "      <td>41.081445</td>\n",
       "    </tr>\n",
       "    <tr>\n",
       "      <th>2877763</th>\n",
       "      <td>WITHDRAWN</td>\n",
       "      <td>LARSEN &amp; TOUBRO LIMITED</td>\n",
       "      <td>Commercial and Industrial Designers</td>\n",
       "      <td>DESIGN ENGINEER</td>\n",
       "      <td>Y</td>\n",
       "      <td>59800.0</td>\n",
       "      <td>2011.0</td>\n",
       "      <td>CHELMSFORD, MASSACHUSETTS</td>\n",
       "      <td>-71.367284</td>\n",
       "      <td>42.599814</td>\n",
       "    </tr>\n",
       "    <tr>\n",
       "      <th>2877764</th>\n",
       "      <td>WITHDRAWN</td>\n",
       "      <td>LARSEN &amp; TOUBRO LIMITED</td>\n",
       "      <td>Commercial and Industrial Designers</td>\n",
       "      <td>DESIGN ENGINEER</td>\n",
       "      <td>Y</td>\n",
       "      <td>59800.0</td>\n",
       "      <td>2011.0</td>\n",
       "      <td>CHELMSFORD, MASSACHUSETTS</td>\n",
       "      <td>-71.367284</td>\n",
       "      <td>42.599814</td>\n",
       "    </tr>\n",
       "  </tbody>\n",
       "</table>\n",
       "<p>2877765 rows × 10 columns</p>\n",
       "</div>"
      ],
      "text/plain": [
       "                 CASE_STATUS  \\\n",
       "0        CERTIFIED-WITHDRAWN   \n",
       "1        CERTIFIED-WITHDRAWN   \n",
       "2        CERTIFIED-WITHDRAWN   \n",
       "3        CERTIFIED-WITHDRAWN   \n",
       "4                  WITHDRAWN   \n",
       "...                      ...   \n",
       "2877760            WITHDRAWN   \n",
       "2877761            WITHDRAWN   \n",
       "2877762            WITHDRAWN   \n",
       "2877763            WITHDRAWN   \n",
       "2877764            WITHDRAWN   \n",
       "\n",
       "                                             EMPLOYER_NAME  \\\n",
       "0                                   UNIVERSITY OF MICHIGAN   \n",
       "1                                   GOODMAN NETWORKS, INC.   \n",
       "2                                PORTS AMERICA GROUP, INC.   \n",
       "3        GATES CORPORATION, A WHOLLY-OWNED SUBSIDIARY O...   \n",
       "4                                PEABODY INVESTMENTS CORP.   \n",
       "...                                                    ...   \n",
       "2877760                               ORACLE AMERICA, INC.   \n",
       "2877761                                 B & D DENTAL CORP.   \n",
       "2877762                  MEDTECH STAFFING & SOLUTIONS, INC   \n",
       "2877763                            LARSEN & TOUBRO LIMITED   \n",
       "2877764                            LARSEN & TOUBRO LIMITED   \n",
       "\n",
       "                                                  SOC_NAME  \\\n",
       "0                            BIOCHEMISTS AND BIOPHYSICISTS   \n",
       "1                                         CHIEF EXECUTIVES   \n",
       "2                                         CHIEF EXECUTIVES   \n",
       "3                                         CHIEF EXECUTIVES   \n",
       "4                                         CHIEF EXECUTIVES   \n",
       "...                                                    ...   \n",
       "2877760                  Software Developers, Applications   \n",
       "2877761                               Materials Scientists   \n",
       "2877762  Market Research Analysts and Marketing Special...   \n",
       "2877763                Commercial and Industrial Designers   \n",
       "2877764                Commercial and Industrial Designers   \n",
       "\n",
       "                                        JOB_TITLE FULL_TIME_POSITION  \\\n",
       "0                    POSTDOCTORAL RESEARCH FELLOW                  N   \n",
       "1                         CHIEF OPERATING OFFICER                  Y   \n",
       "2                           CHIEF PROCESS OFFICER                  Y   \n",
       "3                     REGIONAL PRESIDEN, AMERICAS                  Y   \n",
       "4                    PRESIDENT MONGOLIA AND INDIA                  Y   \n",
       "...                                           ...                ...   \n",
       "2877760  SOFTWARE ENGINEER (SOFTWARE DEVELOPER 2)                  Y   \n",
       "2877761                       MATERIALS SCIENTIST                  N   \n",
       "2877762                   MARKET RESEARCH ANALYST                  Y   \n",
       "2877763                           DESIGN ENGINEER                  Y   \n",
       "2877764                           DESIGN ENGINEER                  Y   \n",
       "\n",
       "         PREVAILING_WAGE    YEAR                    WORKSITE         lon  \\\n",
       "0                36067.0  2016.0         ANN ARBOR, MICHIGAN  -83.743038   \n",
       "1               242674.0  2016.0                PLANO, TEXAS  -96.698886   \n",
       "2               193066.0  2016.0     JERSEY CITY, NEW JERSEY  -74.077642   \n",
       "3               220314.0  2016.0            DENVER, COLORADO -104.990251   \n",
       "4               157518.4  2016.0         ST. LOUIS, MISSOURI  -90.199404   \n",
       "...                  ...     ...                         ...         ...   \n",
       "2877760          64800.0  2011.0  REDWOOD SHORES, CALIFORNIA -122.245536   \n",
       "2877761          70553.6  2011.0           WEST VALLEY, UTAH -112.001050   \n",
       "2877762          33800.0  2011.0                 AKRON, OHIO  -81.519005   \n",
       "2877763          59800.0  2011.0   CHELMSFORD, MASSACHUSETTS  -71.367284   \n",
       "2877764          59800.0  2011.0   CHELMSFORD, MASSACHUSETTS  -71.367284   \n",
       "\n",
       "               lat  \n",
       "0        42.280826  \n",
       "1        33.019843  \n",
       "2        40.728158  \n",
       "3        39.739236  \n",
       "4        38.627003  \n",
       "...            ...  \n",
       "2877760  37.536413  \n",
       "2877761  40.691613  \n",
       "2877762  41.081445  \n",
       "2877763  42.599814  \n",
       "2877764  42.599814  \n",
       "\n",
       "[2877765 rows x 10 columns]"
      ]
     },
     "execution_count": 11,
     "metadata": {},
     "output_type": "execute_result"
    }
   ],
   "source": [
    "df"
   ]
  },
  {
   "cell_type": "markdown",
   "metadata": {},
   "source": [
    "## reset index and check how many rows you have "
   ]
  },
  {
   "cell_type": "code",
   "execution_count": 12,
   "metadata": {},
   "outputs": [
    {
     "data": {
      "text/plain": [
       "2877765"
      ]
     },
     "execution_count": 12,
     "metadata": {},
     "output_type": "execute_result"
    }
   ],
   "source": [
    "df.shape[0]"
   ]
  },
  {
   "cell_type": "markdown",
   "metadata": {},
   "source": [
    "## Write a code to find out top 15 hiring company (Employer Name) "
   ]
  },
  {
   "cell_type": "code",
   "execution_count": 13,
   "metadata": {},
   "outputs": [
    {
     "data": {
      "text/plain": [
       "EMPLOYER_NAME\n",
       "INFOSYS LIMITED                                    130257\n",
       "TATA CONSULTANCY SERVICES LIMITED                   64273\n",
       "WIPRO LIMITED                                       45673\n",
       "DELOITTE CONSULTING LLP                             35999\n",
       "IBM INDIA PRIVATE LIMITED                           33585\n",
       "ACCENTURE LLP                                       33226\n",
       "MICROSOFT CORPORATION                               25551\n",
       "HCL AMERICA, INC.                                   22488\n",
       "ERNST & YOUNG U.S. LLP                              18094\n",
       "COGNIZANT TECHNOLOGY SOLUTIONS U.S. CORPORATION     17322\n",
       "CAPGEMINI AMERICA INC                               16628\n",
       "GOOGLE INC.                                         16425\n",
       "LARSEN & TOUBRO INFOTECH LIMITED                    14318\n",
       "IGATE TECHNOLOGIES INC.                             12327\n",
       "IBM CORPORATION                                     11976\n",
       "Name: count, dtype: int64"
      ]
     },
     "execution_count": 13,
     "metadata": {},
     "output_type": "execute_result"
    }
   ],
   "source": [
    "employer_counts = df['EMPLOYER_NAME'].value_counts()\n",
    "top_15_employers = employer_counts.head(15)\n",
    "top_15_employers\n"
   ]
  },
  {
   "cell_type": "code",
   "execution_count": 14,
   "metadata": {},
   "outputs": [
    {
     "name": "stderr",
     "output_type": "stream",
     "text": [
      "C:\\Users\\KIIT\\AppData\\Local\\Temp\\ipykernel_7876\\935399711.py:9: UserWarning: Tight layout not applied. The bottom and top margins cannot be made large enough to accommodate all axes decorations.\n",
      "  plt.tight_layout()\n"
     ]
    },
    {
     "data": {
      "image/png": "[encoded data removed]",
      "text/plain": [
       "<Figure size 600x300 with 1 Axes>"
      ]
     },
     "metadata": {},
     "output_type": "display_data"
    }
   ],
   "source": [
    "plt.figure(figsize=(6, 3))\n",
    "colors = ['blue', 'orange', 'green', 'red', 'purple', 'brown', 'pink', 'gray', 'olive', 'cyan', 'magenta', 'yellow', 'blue', 'green', 'red']\n",
    "top_15_employers.plot(kind='bar', color=colors[:len(top_15_employers)])\n",
    "plt.title('Top 15 Hiring Companies')\n",
    "plt.xticks(rotation=90, ha='right',fontsize=8)\n",
    "plt.yticks(range(0, 140000, 20000))\n",
    "plt.ylim(0, 140000)\n",
    "plt.xlabel('')\n",
    "plt.tight_layout()\n",
    "plt.show()"
   ]
  },
  {
   "cell_type": "markdown",
   "metadata": {},
   "source": [
    "### Top 15 companies which provide highest PREVALING WAGE"
   ]
  },
  {
   "cell_type": "code",
   "execution_count": 15,
   "metadata": {},
   "outputs": [
    {
     "data": {
      "text/plain": [
       "PREVAILING_WAGE\n",
       "60000.0    10185\n",
       "55245.0     6745\n",
       "62566.0     6480\n",
       "58053.0     5683\n",
       "52499.0     5492\n",
       "51730.0     5407\n",
       "63877.0     5377\n",
       "65042.0     5276\n",
       "55370.0     4961\n",
       "67808.0     4646\n",
       "67621.0     4603\n",
       "60133.0     4505\n",
       "63086.0     4414\n",
       "73923.0     4401\n",
       "66602.0     4105\n",
       "Name: count, dtype: int64"
      ]
     },
     "execution_count": 15,
     "metadata": {},
     "output_type": "execute_result"
    }
   ],
   "source": [
    "pwage = df['PREVAILING_WAGE'].value_counts()\n",
    "pwage.head(15)"
   ]
  },
  {
   "cell_type": "markdown",
   "metadata": {},
   "source": [
    "##### Average PREVAILING WAGE"
   ]
  },
  {
   "cell_type": "code",
   "execution_count": 16,
   "metadata": {},
   "outputs": [
    {
     "data": {
      "text/plain": [
       "145166.64888401062"
      ]
     },
     "execution_count": 16,
     "metadata": {},
     "output_type": "execute_result"
    }
   ],
   "source": [
    "avg = df['PREVAILING_WAGE'].mean()\n",
    "avg"
   ]
  },
  {
   "cell_type": "code",
   "execution_count": 17,
   "metadata": {},
   "outputs": [
    {
     "data": {
      "text/plain": [
       "EMPLOYER_NAME\n",
       "OMPI OF AMERICA INC.                           2.129878e+08\n",
       "INNOBOX SYSTEMS                                1.723634e+08\n",
       "BAALAAJEE INC.                                 1.434408e+08\n",
       "DEPARTMENT OF VETERANS AFFAIRS/NMVAHCS         1.347021e+08\n",
       "BAYSHORE GLOBAL MANAGEMENT LLC                 1.262358e+08\n",
       "MANHATTAN SOFTWARE, INC.                       1.239077e+08\n",
       "GYM-PACT CORP                                  1.233898e+08\n",
       "BOOKRENTER.COM, INC.                           1.230321e+08\n",
       "CATANIA, MAHON, MILLIGRAM &AMP; RIDER, PLLC    1.226971e+08\n",
       "AGROPLASMA, INC                                1.221334e+08\n",
       "AQUA LUNG AMERICA INC.                         1.181107e+08\n",
       "AV INVESTMENT COMPANY, INC.                    1.159038e+08\n",
       "BRONX LIGHTHOUSE CHARTER SCHOOL                1.124240e+08\n",
       "E AND D MEDIA INC.                             1.098240e+08\n",
       "TAMPA BAY DIGITAL DESIGN EXPERTS, LLC          1.070435e+08\n",
       "Name: PREVAILING_WAGE, dtype: float64"
      ]
     },
     "execution_count": 17,
     "metadata": {},
     "output_type": "execute_result"
    }
   ],
   "source": [
    "wage_mean = df.groupby('EMPLOYER_NAME')['PREVAILING_WAGE'].mean()\n",
    "top_15_wage = wage_mean.sort_values(ascending=False).head(15)\n",
    "top_15_wage"
   ]
  },
  {
   "cell_type": "code",
   "execution_count": 18,
   "metadata": {},
   "outputs": [
    {
     "data": {
      "image/png": "[encoded data removed]",
      "text/plain": [
       "<Figure size 600x300 with 1 Axes>"
      ]
     },
     "metadata": {},
     "output_type": "display_data"
    }
   ],
   "source": [
    "plt.figure(figsize=(6, 3))\n",
    "colors = ['blue', 'orange', 'green', 'red', 'purple', 'brown', 'pink', 'gray', 'olive', 'cyan', 'magenta', 'yellow', 'blue', 'green', 'red']\n",
    "plt.bar(top_15_wage.index,top_15_wage.values,color=colors[:len(top_15_wage)])\n",
    "plt.title('Top 15 highest PREVALING WAGE')\n",
    "plt.xticks(rotation=90, ha='right',fontsize=8)\n",
    "plt.ylim(0, 2.25e+08)\n",
    "plt.yticks(np.arange(0.0e+08,2.2e+08,0.25e+08))\n",
    "plt.xlabel(\"\")\n",
    "plt.show()"
   ]
  },
  {
   "cell_type": "markdown",
   "metadata": {},
   "source": [
    "### Top 20 WORKSITE "
   ]
  },
  {
   "cell_type": "code",
   "execution_count": 19,
   "metadata": {},
   "outputs": [],
   "source": [
    "w = df['WORKSITE'].value_counts()\n",
    "w=w.head(20)"
   ]
  },
  {
   "cell_type": "code",
   "execution_count": 20,
   "metadata": {},
   "outputs": [
    {
     "data": {
      "image/png": "[encoded data removed]",
      "text/plain": [
       "<Figure size 600x400 with 1 Axes>"
      ]
     },
     "metadata": {},
     "output_type": "display_data"
    }
   ],
   "source": [
    "plt.figure(figsize=(6, 4))\n",
    "colors = ['blue', 'orange', 'green', 'red', 'purple', 'brown', 'pink', 'gray', 'olive', 'cyan', 'magenta', 'yellow', 'blue', 'green', 'red']\n",
    "w.plot(kind='bar', color=colors[:len(w)])\n",
    "plt.title('Top 20 WORKSITE')\n",
    "plt.xticks(rotation=90, ha='right',fontsize=8)\n",
    "plt.yticks(range(0, 2000000, 25000))\n",
    "plt.ylim(0, 200000)\n",
    "plt.xlabel('')\n",
    "plt.tight_layout()\n",
    "plt.show()"
   ]
  },
  {
   "cell_type": "markdown",
   "metadata": {},
   "source": [
    "### head of Worksite Column"
   ]
  },
  {
   "cell_type": "code",
   "execution_count": 21,
   "metadata": {},
   "outputs": [
    {
     "data": {
      "text/plain": [
       "0        ANN ARBOR, MICHIGAN\n",
       "1               PLANO, TEXAS\n",
       "2    JERSEY CITY, NEW JERSEY\n",
       "3           DENVER, COLORADO\n",
       "4        ST. LOUIS, MISSOURI\n",
       "Name: WORKSITE, dtype: object"
      ]
     },
     "execution_count": 21,
     "metadata": {},
     "output_type": "execute_result"
    }
   ],
   "source": [
    "df['WORKSITE'].head()"
   ]
  },
  {
   "cell_type": "markdown",
   "metadata": {},
   "source": [
    "### Show Column Names"
   ]
  },
  {
   "cell_type": "code",
   "execution_count": 22,
   "metadata": {},
   "outputs": [
    {
     "data": {
      "text/plain": [
       "Index(['CASE_STATUS', 'EMPLOYER_NAME', 'SOC_NAME', 'JOB_TITLE',\n",
       "       'FULL_TIME_POSITION', 'PREVAILING_WAGE', 'YEAR', 'WORKSITE', 'lon',\n",
       "       'lat'],\n",
       "      dtype='object')"
      ]
     },
     "execution_count": 22,
     "metadata": {},
     "output_type": "execute_result"
    }
   ],
   "source": [
    "df.columns"
   ]
  },
  {
   "cell_type": "markdown",
   "metadata": {},
   "source": [
    "### Apply a Function on DataFrame to gather only State Name from Worksite\n",
    "\n",
    "    eg. worksite name current -  SAN FRANCISCO, CALIFORNIA\n",
    "        worksite name after - CALIFORNIA\n",
    "        \n",
    "**note**: there sholud not be any space at the begning or end of worksite name"
   ]
  },
  {
   "cell_type": "code",
   "execution_count": 23,
   "metadata": {},
   "outputs": [
    {
     "data": {
      "text/html": [
       "<div>\n",
       "<style scoped>\n",
       "    .dataframe tbody tr th:only-of-type {\n",
       "        vertical-align: middle;\n",
       "    }\n",
       "\n",
       "    .dataframe tbody tr th {\n",
       "        vertical-align: top;\n",
       "    }\n",
       "\n",
       "    .dataframe thead th {\n",
       "        text-align: right;\n",
       "    }\n",
       "</style>\n",
       "<table border=\"1\" class=\"dataframe\">\n",
       "  <thead>\n",
       "    <tr style=\"text-align: right;\">\n",
       "      <th></th>\n",
       "      <th>CASE_STATUS</th>\n",
       "      <th>EMPLOYER_NAME</th>\n",
       "      <th>SOC_NAME</th>\n",
       "      <th>JOB_TITLE</th>\n",
       "      <th>FULL_TIME_POSITION</th>\n",
       "      <th>PREVAILING_WAGE</th>\n",
       "      <th>YEAR</th>\n",
       "      <th>WORKSITE</th>\n",
       "      <th>lon</th>\n",
       "      <th>lat</th>\n",
       "    </tr>\n",
       "  </thead>\n",
       "  <tbody>\n",
       "    <tr>\n",
       "      <th>0</th>\n",
       "      <td>CERTIFIED-WITHDRAWN</td>\n",
       "      <td>UNIVERSITY OF MICHIGAN</td>\n",
       "      <td>BIOCHEMISTS AND BIOPHYSICISTS</td>\n",
       "      <td>POSTDOCTORAL RESEARCH FELLOW</td>\n",
       "      <td>N</td>\n",
       "      <td>36067.0</td>\n",
       "      <td>2016.0</td>\n",
       "      <td>MICHIGAN</td>\n",
       "      <td>-83.743038</td>\n",
       "      <td>42.280826</td>\n",
       "    </tr>\n",
       "    <tr>\n",
       "      <th>1</th>\n",
       "      <td>CERTIFIED-WITHDRAWN</td>\n",
       "      <td>GOODMAN NETWORKS, INC.</td>\n",
       "      <td>CHIEF EXECUTIVES</td>\n",
       "      <td>CHIEF OPERATING OFFICER</td>\n",
       "      <td>Y</td>\n",
       "      <td>242674.0</td>\n",
       "      <td>2016.0</td>\n",
       "      <td>TEXAS</td>\n",
       "      <td>-96.698886</td>\n",
       "      <td>33.019843</td>\n",
       "    </tr>\n",
       "    <tr>\n",
       "      <th>2</th>\n",
       "      <td>CERTIFIED-WITHDRAWN</td>\n",
       "      <td>PORTS AMERICA GROUP, INC.</td>\n",
       "      <td>CHIEF EXECUTIVES</td>\n",
       "      <td>CHIEF PROCESS OFFICER</td>\n",
       "      <td>Y</td>\n",
       "      <td>193066.0</td>\n",
       "      <td>2016.0</td>\n",
       "      <td>NEW JERSEY</td>\n",
       "      <td>-74.077642</td>\n",
       "      <td>40.728158</td>\n",
       "    </tr>\n",
       "    <tr>\n",
       "      <th>3</th>\n",
       "      <td>CERTIFIED-WITHDRAWN</td>\n",
       "      <td>GATES CORPORATION, A WHOLLY-OWNED SUBSIDIARY O...</td>\n",
       "      <td>CHIEF EXECUTIVES</td>\n",
       "      <td>REGIONAL PRESIDEN, AMERICAS</td>\n",
       "      <td>Y</td>\n",
       "      <td>220314.0</td>\n",
       "      <td>2016.0</td>\n",
       "      <td>COLORADO</td>\n",
       "      <td>-104.990251</td>\n",
       "      <td>39.739236</td>\n",
       "    </tr>\n",
       "    <tr>\n",
       "      <th>4</th>\n",
       "      <td>WITHDRAWN</td>\n",
       "      <td>PEABODY INVESTMENTS CORP.</td>\n",
       "      <td>CHIEF EXECUTIVES</td>\n",
       "      <td>PRESIDENT MONGOLIA AND INDIA</td>\n",
       "      <td>Y</td>\n",
       "      <td>157518.4</td>\n",
       "      <td>2016.0</td>\n",
       "      <td>MISSOURI</td>\n",
       "      <td>-90.199404</td>\n",
       "      <td>38.627003</td>\n",
       "    </tr>\n",
       "  </tbody>\n",
       "</table>\n",
       "</div>"
      ],
      "text/plain": [
       "           CASE_STATUS                                      EMPLOYER_NAME  \\\n",
       "0  CERTIFIED-WITHDRAWN                             UNIVERSITY OF MICHIGAN   \n",
       "1  CERTIFIED-WITHDRAWN                             GOODMAN NETWORKS, INC.   \n",
       "2  CERTIFIED-WITHDRAWN                          PORTS AMERICA GROUP, INC.   \n",
       "3  CERTIFIED-WITHDRAWN  GATES CORPORATION, A WHOLLY-OWNED SUBSIDIARY O...   \n",
       "4            WITHDRAWN                          PEABODY INVESTMENTS CORP.   \n",
       "\n",
       "                        SOC_NAME                     JOB_TITLE  \\\n",
       "0  BIOCHEMISTS AND BIOPHYSICISTS  POSTDOCTORAL RESEARCH FELLOW   \n",
       "1               CHIEF EXECUTIVES       CHIEF OPERATING OFFICER   \n",
       "2               CHIEF EXECUTIVES         CHIEF PROCESS OFFICER   \n",
       "3               CHIEF EXECUTIVES   REGIONAL PRESIDEN, AMERICAS   \n",
       "4               CHIEF EXECUTIVES  PRESIDENT MONGOLIA AND INDIA   \n",
       "\n",
       "  FULL_TIME_POSITION  PREVAILING_WAGE    YEAR    WORKSITE         lon  \\\n",
       "0                  N          36067.0  2016.0    MICHIGAN  -83.743038   \n",
       "1                  Y         242674.0  2016.0       TEXAS  -96.698886   \n",
       "2                  Y         193066.0  2016.0  NEW JERSEY  -74.077642   \n",
       "3                  Y         220314.0  2016.0    COLORADO -104.990251   \n",
       "4                  Y         157518.4  2016.0    MISSOURI  -90.199404   \n",
       "\n",
       "         lat  \n",
       "0  42.280826  \n",
       "1  33.019843  \n",
       "2  40.728158  \n",
       "3  39.739236  \n",
       "4  38.627003  "
      ]
     },
     "execution_count": 23,
     "metadata": {},
     "output_type": "execute_result"
    }
   ],
   "source": [
    "def extract_state(worksite):\n",
    "    return worksite.split(', ')[-1]\n",
    "df['WORKSITE'] = df['WORKSITE'].apply(lambda x: extract_state(x))\n",
    "df['WORKSITE'] = df['WORKSITE'].str.strip()\n",
    "df.head()"
   ]
  },
  {
   "cell_type": "markdown",
   "metadata": {},
   "source": [
    "**note:** if you view your analysis than you will find that 'MARIANA ISLANDS' worksite name is replaced with NA values"
   ]
  },
  {
   "cell_type": "markdown",
   "metadata": {},
   "source": [
    "### Replace all NA records in your Worksite Column with Value  'MARIANA ISLANDS' \n"
   ]
  },
  {
   "cell_type": "code",
   "execution_count": 24,
   "metadata": {},
   "outputs": [
    {
     "data": {
      "text/html": [
       "<div>\n",
       "<style scoped>\n",
       "    .dataframe tbody tr th:only-of-type {\n",
       "        vertical-align: middle;\n",
       "    }\n",
       "\n",
       "    .dataframe tbody tr th {\n",
       "        vertical-align: top;\n",
       "    }\n",
       "\n",
       "    .dataframe thead th {\n",
       "        text-align: right;\n",
       "    }\n",
       "</style>\n",
       "<table border=\"1\" class=\"dataframe\">\n",
       "  <thead>\n",
       "    <tr style=\"text-align: right;\">\n",
       "      <th></th>\n",
       "      <th>CASE_STATUS</th>\n",
       "      <th>EMPLOYER_NAME</th>\n",
       "      <th>SOC_NAME</th>\n",
       "      <th>JOB_TITLE</th>\n",
       "      <th>FULL_TIME_POSITION</th>\n",
       "      <th>PREVAILING_WAGE</th>\n",
       "      <th>YEAR</th>\n",
       "      <th>WORKSITE</th>\n",
       "      <th>lon</th>\n",
       "      <th>lat</th>\n",
       "    </tr>\n",
       "  </thead>\n",
       "  <tbody>\n",
       "    <tr>\n",
       "      <th>0</th>\n",
       "      <td>CERTIFIED-WITHDRAWN</td>\n",
       "      <td>UNIVERSITY OF MICHIGAN</td>\n",
       "      <td>BIOCHEMISTS AND BIOPHYSICISTS</td>\n",
       "      <td>POSTDOCTORAL RESEARCH FELLOW</td>\n",
       "      <td>N</td>\n",
       "      <td>36067.0</td>\n",
       "      <td>2016.0</td>\n",
       "      <td>MICHIGAN</td>\n",
       "      <td>-83.743038</td>\n",
       "      <td>42.280826</td>\n",
       "    </tr>\n",
       "    <tr>\n",
       "      <th>1</th>\n",
       "      <td>CERTIFIED-WITHDRAWN</td>\n",
       "      <td>GOODMAN NETWORKS, INC.</td>\n",
       "      <td>CHIEF EXECUTIVES</td>\n",
       "      <td>CHIEF OPERATING OFFICER</td>\n",
       "      <td>Y</td>\n",
       "      <td>242674.0</td>\n",
       "      <td>2016.0</td>\n",
       "      <td>TEXAS</td>\n",
       "      <td>-96.698886</td>\n",
       "      <td>33.019843</td>\n",
       "    </tr>\n",
       "    <tr>\n",
       "      <th>2</th>\n",
       "      <td>CERTIFIED-WITHDRAWN</td>\n",
       "      <td>PORTS AMERICA GROUP, INC.</td>\n",
       "      <td>CHIEF EXECUTIVES</td>\n",
       "      <td>CHIEF PROCESS OFFICER</td>\n",
       "      <td>Y</td>\n",
       "      <td>193066.0</td>\n",
       "      <td>2016.0</td>\n",
       "      <td>NEW JERSEY</td>\n",
       "      <td>-74.077642</td>\n",
       "      <td>40.728158</td>\n",
       "    </tr>\n",
       "    <tr>\n",
       "      <th>3</th>\n",
       "      <td>CERTIFIED-WITHDRAWN</td>\n",
       "      <td>GATES CORPORATION, A WHOLLY-OWNED SUBSIDIARY O...</td>\n",
       "      <td>CHIEF EXECUTIVES</td>\n",
       "      <td>REGIONAL PRESIDEN, AMERICAS</td>\n",
       "      <td>Y</td>\n",
       "      <td>220314.0</td>\n",
       "      <td>2016.0</td>\n",
       "      <td>COLORADO</td>\n",
       "      <td>-104.990251</td>\n",
       "      <td>39.739236</td>\n",
       "    </tr>\n",
       "    <tr>\n",
       "      <th>4</th>\n",
       "      <td>WITHDRAWN</td>\n",
       "      <td>PEABODY INVESTMENTS CORP.</td>\n",
       "      <td>CHIEF EXECUTIVES</td>\n",
       "      <td>PRESIDENT MONGOLIA AND INDIA</td>\n",
       "      <td>Y</td>\n",
       "      <td>157518.4</td>\n",
       "      <td>2016.0</td>\n",
       "      <td>MISSOURI</td>\n",
       "      <td>-90.199404</td>\n",
       "      <td>38.627003</td>\n",
       "    </tr>\n",
       "    <tr>\n",
       "      <th>...</th>\n",
       "      <td>...</td>\n",
       "      <td>...</td>\n",
       "      <td>...</td>\n",
       "      <td>...</td>\n",
       "      <td>...</td>\n",
       "      <td>...</td>\n",
       "      <td>...</td>\n",
       "      <td>...</td>\n",
       "      <td>...</td>\n",
       "      <td>...</td>\n",
       "    </tr>\n",
       "    <tr>\n",
       "      <th>2877760</th>\n",
       "      <td>WITHDRAWN</td>\n",
       "      <td>ORACLE AMERICA, INC.</td>\n",
       "      <td>Software Developers, Applications</td>\n",
       "      <td>SOFTWARE ENGINEER (SOFTWARE DEVELOPER 2)</td>\n",
       "      <td>Y</td>\n",
       "      <td>64800.0</td>\n",
       "      <td>2011.0</td>\n",
       "      <td>CALIFORNIA</td>\n",
       "      <td>-122.245536</td>\n",
       "      <td>37.536413</td>\n",
       "    </tr>\n",
       "    <tr>\n",
       "      <th>2877761</th>\n",
       "      <td>WITHDRAWN</td>\n",
       "      <td>B &amp; D DENTAL CORP.</td>\n",
       "      <td>Materials Scientists</td>\n",
       "      <td>MATERIALS SCIENTIST</td>\n",
       "      <td>N</td>\n",
       "      <td>70553.6</td>\n",
       "      <td>2011.0</td>\n",
       "      <td>UTAH</td>\n",
       "      <td>-112.001050</td>\n",
       "      <td>40.691613</td>\n",
       "    </tr>\n",
       "    <tr>\n",
       "      <th>2877762</th>\n",
       "      <td>WITHDRAWN</td>\n",
       "      <td>MEDTECH STAFFING &amp; SOLUTIONS, INC</td>\n",
       "      <td>Market Research Analysts and Marketing Special...</td>\n",
       "      <td>MARKET RESEARCH ANALYST</td>\n",
       "      <td>Y</td>\n",
       "      <td>33800.0</td>\n",
       "      <td>2011.0</td>\n",
       "      <td>OHIO</td>\n",
       "      <td>-81.519005</td>\n",
       "      <td>41.081445</td>\n",
       "    </tr>\n",
       "    <tr>\n",
       "      <th>2877763</th>\n",
       "      <td>WITHDRAWN</td>\n",
       "      <td>LARSEN &amp; TOUBRO LIMITED</td>\n",
       "      <td>Commercial and Industrial Designers</td>\n",
       "      <td>DESIGN ENGINEER</td>\n",
       "      <td>Y</td>\n",
       "      <td>59800.0</td>\n",
       "      <td>2011.0</td>\n",
       "      <td>MASSACHUSETTS</td>\n",
       "      <td>-71.367284</td>\n",
       "      <td>42.599814</td>\n",
       "    </tr>\n",
       "    <tr>\n",
       "      <th>2877764</th>\n",
       "      <td>WITHDRAWN</td>\n",
       "      <td>LARSEN &amp; TOUBRO LIMITED</td>\n",
       "      <td>Commercial and Industrial Designers</td>\n",
       "      <td>DESIGN ENGINEER</td>\n",
       "      <td>Y</td>\n",
       "      <td>59800.0</td>\n",
       "      <td>2011.0</td>\n",
       "      <td>MASSACHUSETTS</td>\n",
       "      <td>-71.367284</td>\n",
       "      <td>42.599814</td>\n",
       "    </tr>\n",
       "  </tbody>\n",
       "</table>\n",
       "<p>2877765 rows × 10 columns</p>\n",
       "</div>"
      ],
      "text/plain": [
       "                 CASE_STATUS  \\\n",
       "0        CERTIFIED-WITHDRAWN   \n",
       "1        CERTIFIED-WITHDRAWN   \n",
       "2        CERTIFIED-WITHDRAWN   \n",
       "3        CERTIFIED-WITHDRAWN   \n",
       "4                  WITHDRAWN   \n",
       "...                      ...   \n",
       "2877760            WITHDRAWN   \n",
       "2877761            WITHDRAWN   \n",
       "2877762            WITHDRAWN   \n",
       "2877763            WITHDRAWN   \n",
       "2877764            WITHDRAWN   \n",
       "\n",
       "                                             EMPLOYER_NAME  \\\n",
       "0                                   UNIVERSITY OF MICHIGAN   \n",
       "1                                   GOODMAN NETWORKS, INC.   \n",
       "2                                PORTS AMERICA GROUP, INC.   \n",
       "3        GATES CORPORATION, A WHOLLY-OWNED SUBSIDIARY O...   \n",
       "4                                PEABODY INVESTMENTS CORP.   \n",
       "...                                                    ...   \n",
       "2877760                               ORACLE AMERICA, INC.   \n",
       "2877761                                 B & D DENTAL CORP.   \n",
       "2877762                  MEDTECH STAFFING & SOLUTIONS, INC   \n",
       "2877763                            LARSEN & TOUBRO LIMITED   \n",
       "2877764                            LARSEN & TOUBRO LIMITED   \n",
       "\n",
       "                                                  SOC_NAME  \\\n",
       "0                            BIOCHEMISTS AND BIOPHYSICISTS   \n",
       "1                                         CHIEF EXECUTIVES   \n",
       "2                                         CHIEF EXECUTIVES   \n",
       "3                                         CHIEF EXECUTIVES   \n",
       "4                                         CHIEF EXECUTIVES   \n",
       "...                                                    ...   \n",
       "2877760                  Software Developers, Applications   \n",
       "2877761                               Materials Scientists   \n",
       "2877762  Market Research Analysts and Marketing Special...   \n",
       "2877763                Commercial and Industrial Designers   \n",
       "2877764                Commercial and Industrial Designers   \n",
       "\n",
       "                                        JOB_TITLE FULL_TIME_POSITION  \\\n",
       "0                    POSTDOCTORAL RESEARCH FELLOW                  N   \n",
       "1                         CHIEF OPERATING OFFICER                  Y   \n",
       "2                           CHIEF PROCESS OFFICER                  Y   \n",
       "3                     REGIONAL PRESIDEN, AMERICAS                  Y   \n",
       "4                    PRESIDENT MONGOLIA AND INDIA                  Y   \n",
       "...                                           ...                ...   \n",
       "2877760  SOFTWARE ENGINEER (SOFTWARE DEVELOPER 2)                  Y   \n",
       "2877761                       MATERIALS SCIENTIST                  N   \n",
       "2877762                   MARKET RESEARCH ANALYST                  Y   \n",
       "2877763                           DESIGN ENGINEER                  Y   \n",
       "2877764                           DESIGN ENGINEER                  Y   \n",
       "\n",
       "         PREVAILING_WAGE    YEAR       WORKSITE         lon        lat  \n",
       "0                36067.0  2016.0       MICHIGAN  -83.743038  42.280826  \n",
       "1               242674.0  2016.0          TEXAS  -96.698886  33.019843  \n",
       "2               193066.0  2016.0     NEW JERSEY  -74.077642  40.728158  \n",
       "3               220314.0  2016.0       COLORADO -104.990251  39.739236  \n",
       "4               157518.4  2016.0       MISSOURI  -90.199404  38.627003  \n",
       "...                  ...     ...            ...         ...        ...  \n",
       "2877760          64800.0  2011.0     CALIFORNIA -122.245536  37.536413  \n",
       "2877761          70553.6  2011.0           UTAH -112.001050  40.691613  \n",
       "2877762          33800.0  2011.0           OHIO  -81.519005  41.081445  \n",
       "2877763          59800.0  2011.0  MASSACHUSETTS  -71.367284  42.599814  \n",
       "2877764          59800.0  2011.0  MASSACHUSETTS  -71.367284  42.599814  \n",
       "\n",
       "[2877765 rows x 10 columns]"
      ]
     },
     "execution_count": 24,
     "metadata": {},
     "output_type": "execute_result"
    }
   ],
   "source": [
    "df.loc[df['WORKSITE'] == 'NA', 'WORKSITE'] = 'MARIANA ISLAND'\n",
    "df"
   ]
  },
  {
   "cell_type": "markdown",
   "metadata": {},
   "source": [
    "### Print out how many unique Worksites are there"
   ]
  },
  {
   "cell_type": "code",
   "execution_count": 25,
   "metadata": {},
   "outputs": [
    {
     "data": {
      "text/plain": [
       "53"
      ]
     },
     "execution_count": 25,
     "metadata": {},
     "output_type": "execute_result"
    }
   ],
   "source": [
    "df[\"WORKSITE\"].nunique()"
   ]
  },
  {
   "cell_type": "markdown",
   "metadata": {},
   "source": [
    "##### show column names "
   ]
  },
  {
   "cell_type": "code",
   "execution_count": 26,
   "metadata": {},
   "outputs": [
    {
     "data": {
      "text/plain": [
       "Index(['CASE_STATUS', 'EMPLOYER_NAME', 'SOC_NAME', 'JOB_TITLE',\n",
       "       'FULL_TIME_POSITION', 'PREVAILING_WAGE', 'YEAR', 'WORKSITE', 'lon',\n",
       "       'lat'],\n",
       "      dtype='object')"
      ]
     },
     "execution_count": 26,
     "metadata": {},
     "output_type": "execute_result"
    }
   ],
   "source": [
    "df.columns"
   ]
  },
  {
   "cell_type": "markdown",
   "metadata": {},
   "source": [
    "#### Rename you column names as\n",
    "\n",
    "    {'EMPLOYER_NAME':'EMPLOYER','FULL_TIME_POSITION':'FULL_T','PREVAILING_WAGE':'PREV_WAGE','WORKSITE':'STATE','lon':'LON','lat':'LAT'}"
   ]
  },
  {
   "cell_type": "code",
   "execution_count": 27,
   "metadata": {},
   "outputs": [
    {
     "data": {
      "text/html": [
       "<div>\n",
       "<style scoped>\n",
       "    .dataframe tbody tr th:only-of-type {\n",
       "        vertical-align: middle;\n",
       "    }\n",
       "\n",
       "    .dataframe tbody tr th {\n",
       "        vertical-align: top;\n",
       "    }\n",
       "\n",
       "    .dataframe thead th {\n",
       "        text-align: right;\n",
       "    }\n",
       "</style>\n",
       "<table border=\"1\" class=\"dataframe\">\n",
       "  <thead>\n",
       "    <tr style=\"text-align: right;\">\n",
       "      <th></th>\n",
       "      <th>CASE_STATUS</th>\n",
       "      <th>EMPLOYER</th>\n",
       "      <th>SOC_NAME</th>\n",
       "      <th>JOB_TITLE</th>\n",
       "      <th>FULL_T</th>\n",
       "      <th>PREV_WAGE</th>\n",
       "      <th>YEAR</th>\n",
       "      <th>STATE</th>\n",
       "      <th>LON</th>\n",
       "      <th>LAT</th>\n",
       "    </tr>\n",
       "  </thead>\n",
       "  <tbody>\n",
       "    <tr>\n",
       "      <th>0</th>\n",
       "      <td>CERTIFIED-WITHDRAWN</td>\n",
       "      <td>UNIVERSITY OF MICHIGAN</td>\n",
       "      <td>BIOCHEMISTS AND BIOPHYSICISTS</td>\n",
       "      <td>POSTDOCTORAL RESEARCH FELLOW</td>\n",
       "      <td>N</td>\n",
       "      <td>36067.0</td>\n",
       "      <td>2016.0</td>\n",
       "      <td>MICHIGAN</td>\n",
       "      <td>-83.743038</td>\n",
       "      <td>42.280826</td>\n",
       "    </tr>\n",
       "    <tr>\n",
       "      <th>1</th>\n",
       "      <td>CERTIFIED-WITHDRAWN</td>\n",
       "      <td>GOODMAN NETWORKS, INC.</td>\n",
       "      <td>CHIEF EXECUTIVES</td>\n",
       "      <td>CHIEF OPERATING OFFICER</td>\n",
       "      <td>Y</td>\n",
       "      <td>242674.0</td>\n",
       "      <td>2016.0</td>\n",
       "      <td>TEXAS</td>\n",
       "      <td>-96.698886</td>\n",
       "      <td>33.019843</td>\n",
       "    </tr>\n",
       "    <tr>\n",
       "      <th>2</th>\n",
       "      <td>CERTIFIED-WITHDRAWN</td>\n",
       "      <td>PORTS AMERICA GROUP, INC.</td>\n",
       "      <td>CHIEF EXECUTIVES</td>\n",
       "      <td>CHIEF PROCESS OFFICER</td>\n",
       "      <td>Y</td>\n",
       "      <td>193066.0</td>\n",
       "      <td>2016.0</td>\n",
       "      <td>NEW JERSEY</td>\n",
       "      <td>-74.077642</td>\n",
       "      <td>40.728158</td>\n",
       "    </tr>\n",
       "    <tr>\n",
       "      <th>3</th>\n",
       "      <td>CERTIFIED-WITHDRAWN</td>\n",
       "      <td>GATES CORPORATION, A WHOLLY-OWNED SUBSIDIARY O...</td>\n",
       "      <td>CHIEF EXECUTIVES</td>\n",
       "      <td>REGIONAL PRESIDEN, AMERICAS</td>\n",
       "      <td>Y</td>\n",
       "      <td>220314.0</td>\n",
       "      <td>2016.0</td>\n",
       "      <td>COLORADO</td>\n",
       "      <td>-104.990251</td>\n",
       "      <td>39.739236</td>\n",
       "    </tr>\n",
       "    <tr>\n",
       "      <th>4</th>\n",
       "      <td>WITHDRAWN</td>\n",
       "      <td>PEABODY INVESTMENTS CORP.</td>\n",
       "      <td>CHIEF EXECUTIVES</td>\n",
       "      <td>PRESIDENT MONGOLIA AND INDIA</td>\n",
       "      <td>Y</td>\n",
       "      <td>157518.4</td>\n",
       "      <td>2016.0</td>\n",
       "      <td>MISSOURI</td>\n",
       "      <td>-90.199404</td>\n",
       "      <td>38.627003</td>\n",
       "    </tr>\n",
       "    <tr>\n",
       "      <th>...</th>\n",
       "      <td>...</td>\n",
       "      <td>...</td>\n",
       "      <td>...</td>\n",
       "      <td>...</td>\n",
       "      <td>...</td>\n",
       "      <td>...</td>\n",
       "      <td>...</td>\n",
       "      <td>...</td>\n",
       "      <td>...</td>\n",
       "      <td>...</td>\n",
       "    </tr>\n",
       "    <tr>\n",
       "      <th>2877760</th>\n",
       "      <td>WITHDRAWN</td>\n",
       "      <td>ORACLE AMERICA, INC.</td>\n",
       "      <td>Software Developers, Applications</td>\n",
       "      <td>SOFTWARE ENGINEER (SOFTWARE DEVELOPER 2)</td>\n",
       "      <td>Y</td>\n",
       "      <td>64800.0</td>\n",
       "      <td>2011.0</td>\n",
       "      <td>CALIFORNIA</td>\n",
       "      <td>-122.245536</td>\n",
       "      <td>37.536413</td>\n",
       "    </tr>\n",
       "    <tr>\n",
       "      <th>2877761</th>\n",
       "      <td>WITHDRAWN</td>\n",
       "      <td>B &amp; D DENTAL CORP.</td>\n",
       "      <td>Materials Scientists</td>\n",
       "      <td>MATERIALS SCIENTIST</td>\n",
       "      <td>N</td>\n",
       "      <td>70553.6</td>\n",
       "      <td>2011.0</td>\n",
       "      <td>UTAH</td>\n",
       "      <td>-112.001050</td>\n",
       "      <td>40.691613</td>\n",
       "    </tr>\n",
       "    <tr>\n",
       "      <th>2877762</th>\n",
       "      <td>WITHDRAWN</td>\n",
       "      <td>MEDTECH STAFFING &amp; SOLUTIONS, INC</td>\n",
       "      <td>Market Research Analysts and Marketing Special...</td>\n",
       "      <td>MARKET RESEARCH ANALYST</td>\n",
       "      <td>Y</td>\n",
       "      <td>33800.0</td>\n",
       "      <td>2011.0</td>\n",
       "      <td>OHIO</td>\n",
       "      <td>-81.519005</td>\n",
       "      <td>41.081445</td>\n",
       "    </tr>\n",
       "    <tr>\n",
       "      <th>2877763</th>\n",
       "      <td>WITHDRAWN</td>\n",
       "      <td>LARSEN &amp; TOUBRO LIMITED</td>\n",
       "      <td>Commercial and Industrial Designers</td>\n",
       "      <td>DESIGN ENGINEER</td>\n",
       "      <td>Y</td>\n",
       "      <td>59800.0</td>\n",
       "      <td>2011.0</td>\n",
       "      <td>MASSACHUSETTS</td>\n",
       "      <td>-71.367284</td>\n",
       "      <td>42.599814</td>\n",
       "    </tr>\n",
       "    <tr>\n",
       "      <th>2877764</th>\n",
       "      <td>WITHDRAWN</td>\n",
       "      <td>LARSEN &amp; TOUBRO LIMITED</td>\n",
       "      <td>Commercial and Industrial Designers</td>\n",
       "      <td>DESIGN ENGINEER</td>\n",
       "      <td>Y</td>\n",
       "      <td>59800.0</td>\n",
       "      <td>2011.0</td>\n",
       "      <td>MASSACHUSETTS</td>\n",
       "      <td>-71.367284</td>\n",
       "      <td>42.599814</td>\n",
       "    </tr>\n",
       "  </tbody>\n",
       "</table>\n",
       "<p>2877765 rows × 10 columns</p>\n",
       "</div>"
      ],
      "text/plain": [
       "                 CASE_STATUS  \\\n",
       "0        CERTIFIED-WITHDRAWN   \n",
       "1        CERTIFIED-WITHDRAWN   \n",
       "2        CERTIFIED-WITHDRAWN   \n",
       "3        CERTIFIED-WITHDRAWN   \n",
       "4                  WITHDRAWN   \n",
       "...                      ...   \n",
       "2877760            WITHDRAWN   \n",
       "2877761            WITHDRAWN   \n",
       "2877762            WITHDRAWN   \n",
       "2877763            WITHDRAWN   \n",
       "2877764            WITHDRAWN   \n",
       "\n",
       "                                                  EMPLOYER  \\\n",
       "0                                   UNIVERSITY OF MICHIGAN   \n",
       "1                                   GOODMAN NETWORKS, INC.   \n",
       "2                                PORTS AMERICA GROUP, INC.   \n",
       "3        GATES CORPORATION, A WHOLLY-OWNED SUBSIDIARY O...   \n",
       "4                                PEABODY INVESTMENTS CORP.   \n",
       "...                                                    ...   \n",
       "2877760                               ORACLE AMERICA, INC.   \n",
       "2877761                                 B & D DENTAL CORP.   \n",
       "2877762                  MEDTECH STAFFING & SOLUTIONS, INC   \n",
       "2877763                            LARSEN & TOUBRO LIMITED   \n",
       "2877764                            LARSEN & TOUBRO LIMITED   \n",
       "\n",
       "                                                  SOC_NAME  \\\n",
       "0                            BIOCHEMISTS AND BIOPHYSICISTS   \n",
       "1                                         CHIEF EXECUTIVES   \n",
       "2                                         CHIEF EXECUTIVES   \n",
       "3                                         CHIEF EXECUTIVES   \n",
       "4                                         CHIEF EXECUTIVES   \n",
       "...                                                    ...   \n",
       "2877760                  Software Developers, Applications   \n",
       "2877761                               Materials Scientists   \n",
       "2877762  Market Research Analysts and Marketing Special...   \n",
       "2877763                Commercial and Industrial Designers   \n",
       "2877764                Commercial and Industrial Designers   \n",
       "\n",
       "                                        JOB_TITLE FULL_T  PREV_WAGE    YEAR  \\\n",
       "0                    POSTDOCTORAL RESEARCH FELLOW      N    36067.0  2016.0   \n",
       "1                         CHIEF OPERATING OFFICER      Y   242674.0  2016.0   \n",
       "2                           CHIEF PROCESS OFFICER      Y   193066.0  2016.0   \n",
       "3                     REGIONAL PRESIDEN, AMERICAS      Y   220314.0  2016.0   \n",
       "4                    PRESIDENT MONGOLIA AND INDIA      Y   157518.4  2016.0   \n",
       "...                                           ...    ...        ...     ...   \n",
       "2877760  SOFTWARE ENGINEER (SOFTWARE DEVELOPER 2)      Y    64800.0  2011.0   \n",
       "2877761                       MATERIALS SCIENTIST      N    70553.6  2011.0   \n",
       "2877762                   MARKET RESEARCH ANALYST      Y    33800.0  2011.0   \n",
       "2877763                           DESIGN ENGINEER      Y    59800.0  2011.0   \n",
       "2877764                           DESIGN ENGINEER      Y    59800.0  2011.0   \n",
       "\n",
       "                 STATE         LON        LAT  \n",
       "0             MICHIGAN  -83.743038  42.280826  \n",
       "1                TEXAS  -96.698886  33.019843  \n",
       "2           NEW JERSEY  -74.077642  40.728158  \n",
       "3             COLORADO -104.990251  39.739236  \n",
       "4             MISSOURI  -90.199404  38.627003  \n",
       "...                ...         ...        ...  \n",
       "2877760     CALIFORNIA -122.245536  37.536413  \n",
       "2877761           UTAH -112.001050  40.691613  \n",
       "2877762           OHIO  -81.519005  41.081445  \n",
       "2877763  MASSACHUSETTS  -71.367284  42.599814  \n",
       "2877764  MASSACHUSETTS  -71.367284  42.599814  \n",
       "\n",
       "[2877765 rows x 10 columns]"
      ]
     },
     "execution_count": 27,
     "metadata": {},
     "output_type": "execute_result"
    }
   ],
   "source": [
    "new_names = {\n",
    "    'EMPLOYER_NAME': 'EMPLOYER',\n",
    "    'FULL_TIME_POSITION': 'FULL_T',\n",
    "    'PREVAILING_WAGE': 'PREV_WAGE',\n",
    "    'WORKSITE': 'STATE',\n",
    "    'lon': 'LON',\n",
    "    'lat': 'LAT'\n",
    "}\n",
    "df.rename(columns=new_names, inplace=True)\n",
    "df"
   ]
  },
  {
   "cell_type": "markdown",
   "metadata": {},
   "source": [
    "#### Now Remove all Columns Except these columns \n",
    "\n",
    "    'CASE_STATUS','YEAR','STATE','SOC_NAME','JOB_TITLE','FULL_T','PREV_WAGE','EMPLOYER','LON',\"LAT\""
   ]
  },
  {
   "cell_type": "code",
   "execution_count": 28,
   "metadata": {},
   "outputs": [
    {
     "data": {
      "text/html": [
       "<div>\n",
       "<style scoped>\n",
       "    .dataframe tbody tr th:only-of-type {\n",
       "        vertical-align: middle;\n",
       "    }\n",
       "\n",
       "    .dataframe tbody tr th {\n",
       "        vertical-align: top;\n",
       "    }\n",
       "\n",
       "    .dataframe thead th {\n",
       "        text-align: right;\n",
       "    }\n",
       "</style>\n",
       "<table border=\"1\" class=\"dataframe\">\n",
       "  <thead>\n",
       "    <tr style=\"text-align: right;\">\n",
       "      <th></th>\n",
       "      <th>CASE_STATUS</th>\n",
       "      <th>YEAR</th>\n",
       "      <th>STATE</th>\n",
       "      <th>SOC_NAME</th>\n",
       "      <th>JOB_TITLE</th>\n",
       "      <th>FULL_T</th>\n",
       "      <th>PREV_WAGE</th>\n",
       "      <th>EMPLOYER</th>\n",
       "      <th>LON</th>\n",
       "      <th>LAT</th>\n",
       "    </tr>\n",
       "  </thead>\n",
       "  <tbody>\n",
       "    <tr>\n",
       "      <th>0</th>\n",
       "      <td>CERTIFIED-WITHDRAWN</td>\n",
       "      <td>2016.0</td>\n",
       "      <td>MICHIGAN</td>\n",
       "      <td>BIOCHEMISTS AND BIOPHYSICISTS</td>\n",
       "      <td>POSTDOCTORAL RESEARCH FELLOW</td>\n",
       "      <td>N</td>\n",
       "      <td>36067.0</td>\n",
       "      <td>UNIVERSITY OF MICHIGAN</td>\n",
       "      <td>-83.743038</td>\n",
       "      <td>42.280826</td>\n",
       "    </tr>\n",
       "    <tr>\n",
       "      <th>1</th>\n",
       "      <td>CERTIFIED-WITHDRAWN</td>\n",
       "      <td>2016.0</td>\n",
       "      <td>TEXAS</td>\n",
       "      <td>CHIEF EXECUTIVES</td>\n",
       "      <td>CHIEF OPERATING OFFICER</td>\n",
       "      <td>Y</td>\n",
       "      <td>242674.0</td>\n",
       "      <td>GOODMAN NETWORKS, INC.</td>\n",
       "      <td>-96.698886</td>\n",
       "      <td>33.019843</td>\n",
       "    </tr>\n",
       "    <tr>\n",
       "      <th>2</th>\n",
       "      <td>CERTIFIED-WITHDRAWN</td>\n",
       "      <td>2016.0</td>\n",
       "      <td>NEW JERSEY</td>\n",
       "      <td>CHIEF EXECUTIVES</td>\n",
       "      <td>CHIEF PROCESS OFFICER</td>\n",
       "      <td>Y</td>\n",
       "      <td>193066.0</td>\n",
       "      <td>PORTS AMERICA GROUP, INC.</td>\n",
       "      <td>-74.077642</td>\n",
       "      <td>40.728158</td>\n",
       "    </tr>\n",
       "    <tr>\n",
       "      <th>3</th>\n",
       "      <td>CERTIFIED-WITHDRAWN</td>\n",
       "      <td>2016.0</td>\n",
       "      <td>COLORADO</td>\n",
       "      <td>CHIEF EXECUTIVES</td>\n",
       "      <td>REGIONAL PRESIDEN, AMERICAS</td>\n",
       "      <td>Y</td>\n",
       "      <td>220314.0</td>\n",
       "      <td>GATES CORPORATION, A WHOLLY-OWNED SUBSIDIARY O...</td>\n",
       "      <td>-104.990251</td>\n",
       "      <td>39.739236</td>\n",
       "    </tr>\n",
       "    <tr>\n",
       "      <th>4</th>\n",
       "      <td>WITHDRAWN</td>\n",
       "      <td>2016.0</td>\n",
       "      <td>MISSOURI</td>\n",
       "      <td>CHIEF EXECUTIVES</td>\n",
       "      <td>PRESIDENT MONGOLIA AND INDIA</td>\n",
       "      <td>Y</td>\n",
       "      <td>157518.4</td>\n",
       "      <td>PEABODY INVESTMENTS CORP.</td>\n",
       "      <td>-90.199404</td>\n",
       "      <td>38.627003</td>\n",
       "    </tr>\n",
       "    <tr>\n",
       "      <th>...</th>\n",
       "      <td>...</td>\n",
       "      <td>...</td>\n",
       "      <td>...</td>\n",
       "      <td>...</td>\n",
       "      <td>...</td>\n",
       "      <td>...</td>\n",
       "      <td>...</td>\n",
       "      <td>...</td>\n",
       "      <td>...</td>\n",
       "      <td>...</td>\n",
       "    </tr>\n",
       "    <tr>\n",
       "      <th>2877760</th>\n",
       "      <td>WITHDRAWN</td>\n",
       "      <td>2011.0</td>\n",
       "      <td>CALIFORNIA</td>\n",
       "      <td>Software Developers, Applications</td>\n",
       "      <td>SOFTWARE ENGINEER (SOFTWARE DEVELOPER 2)</td>\n",
       "      <td>Y</td>\n",
       "      <td>64800.0</td>\n",
       "      <td>ORACLE AMERICA, INC.</td>\n",
       "      <td>-122.245536</td>\n",
       "      <td>37.536413</td>\n",
       "    </tr>\n",
       "    <tr>\n",
       "      <th>2877761</th>\n",
       "      <td>WITHDRAWN</td>\n",
       "      <td>2011.0</td>\n",
       "      <td>UTAH</td>\n",
       "      <td>Materials Scientists</td>\n",
       "      <td>MATERIALS SCIENTIST</td>\n",
       "      <td>N</td>\n",
       "      <td>70553.6</td>\n",
       "      <td>B &amp; D DENTAL CORP.</td>\n",
       "      <td>-112.001050</td>\n",
       "      <td>40.691613</td>\n",
       "    </tr>\n",
       "    <tr>\n",
       "      <th>2877762</th>\n",
       "      <td>WITHDRAWN</td>\n",
       "      <td>2011.0</td>\n",
       "      <td>OHIO</td>\n",
       "      <td>Market Research Analysts and Marketing Special...</td>\n",
       "      <td>MARKET RESEARCH ANALYST</td>\n",
       "      <td>Y</td>\n",
       "      <td>33800.0</td>\n",
       "      <td>MEDTECH STAFFING &amp; SOLUTIONS, INC</td>\n",
       "      <td>-81.519005</td>\n",
       "      <td>41.081445</td>\n",
       "    </tr>\n",
       "    <tr>\n",
       "      <th>2877763</th>\n",
       "      <td>WITHDRAWN</td>\n",
       "      <td>2011.0</td>\n",
       "      <td>MASSACHUSETTS</td>\n",
       "      <td>Commercial and Industrial Designers</td>\n",
       "      <td>DESIGN ENGINEER</td>\n",
       "      <td>Y</td>\n",
       "      <td>59800.0</td>\n",
       "      <td>LARSEN &amp; TOUBRO LIMITED</td>\n",
       "      <td>-71.367284</td>\n",
       "      <td>42.599814</td>\n",
       "    </tr>\n",
       "    <tr>\n",
       "      <th>2877764</th>\n",
       "      <td>WITHDRAWN</td>\n",
       "      <td>2011.0</td>\n",
       "      <td>MASSACHUSETTS</td>\n",
       "      <td>Commercial and Industrial Designers</td>\n",
       "      <td>DESIGN ENGINEER</td>\n",
       "      <td>Y</td>\n",
       "      <td>59800.0</td>\n",
       "      <td>LARSEN &amp; TOUBRO LIMITED</td>\n",
       "      <td>-71.367284</td>\n",
       "      <td>42.599814</td>\n",
       "    </tr>\n",
       "  </tbody>\n",
       "</table>\n",
       "<p>2877765 rows × 10 columns</p>\n",
       "</div>"
      ],
      "text/plain": [
       "                 CASE_STATUS    YEAR          STATE  \\\n",
       "0        CERTIFIED-WITHDRAWN  2016.0       MICHIGAN   \n",
       "1        CERTIFIED-WITHDRAWN  2016.0          TEXAS   \n",
       "2        CERTIFIED-WITHDRAWN  2016.0     NEW JERSEY   \n",
       "3        CERTIFIED-WITHDRAWN  2016.0       COLORADO   \n",
       "4                  WITHDRAWN  2016.0       MISSOURI   \n",
       "...                      ...     ...            ...   \n",
       "2877760            WITHDRAWN  2011.0     CALIFORNIA   \n",
       "2877761            WITHDRAWN  2011.0           UTAH   \n",
       "2877762            WITHDRAWN  2011.0           OHIO   \n",
       "2877763            WITHDRAWN  2011.0  MASSACHUSETTS   \n",
       "2877764            WITHDRAWN  2011.0  MASSACHUSETTS   \n",
       "\n",
       "                                                  SOC_NAME  \\\n",
       "0                            BIOCHEMISTS AND BIOPHYSICISTS   \n",
       "1                                         CHIEF EXECUTIVES   \n",
       "2                                         CHIEF EXECUTIVES   \n",
       "3                                         CHIEF EXECUTIVES   \n",
       "4                                         CHIEF EXECUTIVES   \n",
       "...                                                    ...   \n",
       "2877760                  Software Developers, Applications   \n",
       "2877761                               Materials Scientists   \n",
       "2877762  Market Research Analysts and Marketing Special...   \n",
       "2877763                Commercial and Industrial Designers   \n",
       "2877764                Commercial and Industrial Designers   \n",
       "\n",
       "                                        JOB_TITLE FULL_T  PREV_WAGE  \\\n",
       "0                    POSTDOCTORAL RESEARCH FELLOW      N    36067.0   \n",
       "1                         CHIEF OPERATING OFFICER      Y   242674.0   \n",
       "2                           CHIEF PROCESS OFFICER      Y   193066.0   \n",
       "3                     REGIONAL PRESIDEN, AMERICAS      Y   220314.0   \n",
       "4                    PRESIDENT MONGOLIA AND INDIA      Y   157518.4   \n",
       "...                                           ...    ...        ...   \n",
       "2877760  SOFTWARE ENGINEER (SOFTWARE DEVELOPER 2)      Y    64800.0   \n",
       "2877761                       MATERIALS SCIENTIST      N    70553.6   \n",
       "2877762                   MARKET RESEARCH ANALYST      Y    33800.0   \n",
       "2877763                           DESIGN ENGINEER      Y    59800.0   \n",
       "2877764                           DESIGN ENGINEER      Y    59800.0   \n",
       "\n",
       "                                                  EMPLOYER         LON  \\\n",
       "0                                   UNIVERSITY OF MICHIGAN  -83.743038   \n",
       "1                                   GOODMAN NETWORKS, INC.  -96.698886   \n",
       "2                                PORTS AMERICA GROUP, INC.  -74.077642   \n",
       "3        GATES CORPORATION, A WHOLLY-OWNED SUBSIDIARY O... -104.990251   \n",
       "4                                PEABODY INVESTMENTS CORP.  -90.199404   \n",
       "...                                                    ...         ...   \n",
       "2877760                               ORACLE AMERICA, INC. -122.245536   \n",
       "2877761                                 B & D DENTAL CORP. -112.001050   \n",
       "2877762                  MEDTECH STAFFING & SOLUTIONS, INC  -81.519005   \n",
       "2877763                            LARSEN & TOUBRO LIMITED  -71.367284   \n",
       "2877764                            LARSEN & TOUBRO LIMITED  -71.367284   \n",
       "\n",
       "               LAT  \n",
       "0        42.280826  \n",
       "1        33.019843  \n",
       "2        40.728158  \n",
       "3        39.739236  \n",
       "4        38.627003  \n",
       "...            ...  \n",
       "2877760  37.536413  \n",
       "2877761  40.691613  \n",
       "2877762  41.081445  \n",
       "2877763  42.599814  \n",
       "2877764  42.599814  \n",
       "\n",
       "[2877765 rows x 10 columns]"
      ]
     },
     "execution_count": 28,
     "metadata": {},
     "output_type": "execute_result"
    }
   ],
   "source": [
    "n=['CASE_STATUS','YEAR','STATE','SOC_NAME','JOB_TITLE','FULL_T','PREV_WAGE','EMPLOYER','LON',\"LAT\"]\n",
    "df=df[n]\n",
    "df"
   ]
  },
  {
   "cell_type": "markdown",
   "metadata": {},
   "source": [
    "__show colnames__"
   ]
  },
  {
   "cell_type": "code",
   "execution_count": 29,
   "metadata": {},
   "outputs": [
    {
     "data": {
      "text/plain": [
       "Index(['CASE_STATUS', 'YEAR', 'STATE', 'SOC_NAME', 'JOB_TITLE', 'FULL_T',\n",
       "       'PREV_WAGE', 'EMPLOYER', 'LON', 'LAT'],\n",
       "      dtype='object')"
      ]
     },
     "execution_count": 29,
     "metadata": {},
     "output_type": "execute_result"
    }
   ],
   "source": [
    "df.columns"
   ]
  },
  {
   "cell_type": "markdown",
   "metadata": {},
   "source": [
    "#### Perform These Operations \n",
    "\n",
    "    Precise LON and LAT columns upto 2 decimal palaces\n",
    "    \n",
    "    Convert YEAR Column into String\n",
    "    \n",
    "    Convert PREV_WAGE column into Integer"
   ]
  },
  {
   "cell_type": "code",
   "execution_count": 30,
   "metadata": {},
   "outputs": [
    {
     "data": {
      "text/html": [
       "<div>\n",
       "<style scoped>\n",
       "    .dataframe tbody tr th:only-of-type {\n",
       "        vertical-align: middle;\n",
       "    }\n",
       "\n",
       "    .dataframe tbody tr th {\n",
       "        vertical-align: top;\n",
       "    }\n",
       "\n",
       "    .dataframe thead th {\n",
       "        text-align: right;\n",
       "    }\n",
       "</style>\n",
       "<table border=\"1\" class=\"dataframe\">\n",
       "  <thead>\n",
       "    <tr style=\"text-align: right;\">\n",
       "      <th></th>\n",
       "      <th>CASE_STATUS</th>\n",
       "      <th>YEAR</th>\n",
       "      <th>STATE</th>\n",
       "      <th>SOC_NAME</th>\n",
       "      <th>JOB_TITLE</th>\n",
       "      <th>FULL_T</th>\n",
       "      <th>PREV_WAGE</th>\n",
       "      <th>EMPLOYER</th>\n",
       "      <th>LON</th>\n",
       "      <th>LAT</th>\n",
       "    </tr>\n",
       "  </thead>\n",
       "  <tbody>\n",
       "    <tr>\n",
       "      <th>0</th>\n",
       "      <td>CERTIFIED-WITHDRAWN</td>\n",
       "      <td>2016</td>\n",
       "      <td>MICHIGAN</td>\n",
       "      <td>BIOCHEMISTS AND BIOPHYSICISTS</td>\n",
       "      <td>POSTDOCTORAL RESEARCH FELLOW</td>\n",
       "      <td>N</td>\n",
       "      <td>36067</td>\n",
       "      <td>UNIVERSITY OF MICHIGAN</td>\n",
       "      <td>-83.74</td>\n",
       "      <td>42.28</td>\n",
       "    </tr>\n",
       "    <tr>\n",
       "      <th>1</th>\n",
       "      <td>CERTIFIED-WITHDRAWN</td>\n",
       "      <td>2016</td>\n",
       "      <td>TEXAS</td>\n",
       "      <td>CHIEF EXECUTIVES</td>\n",
       "      <td>CHIEF OPERATING OFFICER</td>\n",
       "      <td>Y</td>\n",
       "      <td>242674</td>\n",
       "      <td>GOODMAN NETWORKS, INC.</td>\n",
       "      <td>-96.70</td>\n",
       "      <td>33.02</td>\n",
       "    </tr>\n",
       "    <tr>\n",
       "      <th>2</th>\n",
       "      <td>CERTIFIED-WITHDRAWN</td>\n",
       "      <td>2016</td>\n",
       "      <td>NEW JERSEY</td>\n",
       "      <td>CHIEF EXECUTIVES</td>\n",
       "      <td>CHIEF PROCESS OFFICER</td>\n",
       "      <td>Y</td>\n",
       "      <td>193066</td>\n",
       "      <td>PORTS AMERICA GROUP, INC.</td>\n",
       "      <td>-74.08</td>\n",
       "      <td>40.73</td>\n",
       "    </tr>\n",
       "    <tr>\n",
       "      <th>3</th>\n",
       "      <td>CERTIFIED-WITHDRAWN</td>\n",
       "      <td>2016</td>\n",
       "      <td>COLORADO</td>\n",
       "      <td>CHIEF EXECUTIVES</td>\n",
       "      <td>REGIONAL PRESIDEN, AMERICAS</td>\n",
       "      <td>Y</td>\n",
       "      <td>220314</td>\n",
       "      <td>GATES CORPORATION, A WHOLLY-OWNED SUBSIDIARY O...</td>\n",
       "      <td>-104.99</td>\n",
       "      <td>39.74</td>\n",
       "    </tr>\n",
       "    <tr>\n",
       "      <th>4</th>\n",
       "      <td>WITHDRAWN</td>\n",
       "      <td>2016</td>\n",
       "      <td>MISSOURI</td>\n",
       "      <td>CHIEF EXECUTIVES</td>\n",
       "      <td>PRESIDENT MONGOLIA AND INDIA</td>\n",
       "      <td>Y</td>\n",
       "      <td>157518</td>\n",
       "      <td>PEABODY INVESTMENTS CORP.</td>\n",
       "      <td>-90.20</td>\n",
       "      <td>38.63</td>\n",
       "    </tr>\n",
       "    <tr>\n",
       "      <th>...</th>\n",
       "      <td>...</td>\n",
       "      <td>...</td>\n",
       "      <td>...</td>\n",
       "      <td>...</td>\n",
       "      <td>...</td>\n",
       "      <td>...</td>\n",
       "      <td>...</td>\n",
       "      <td>...</td>\n",
       "      <td>...</td>\n",
       "      <td>...</td>\n",
       "    </tr>\n",
       "    <tr>\n",
       "      <th>2877760</th>\n",
       "      <td>WITHDRAWN</td>\n",
       "      <td>2011</td>\n",
       "      <td>CALIFORNIA</td>\n",
       "      <td>Software Developers, Applications</td>\n",
       "      <td>SOFTWARE ENGINEER (SOFTWARE DEVELOPER 2)</td>\n",
       "      <td>Y</td>\n",
       "      <td>64800</td>\n",
       "      <td>ORACLE AMERICA, INC.</td>\n",
       "      <td>-122.25</td>\n",
       "      <td>37.54</td>\n",
       "    </tr>\n",
       "    <tr>\n",
       "      <th>2877761</th>\n",
       "      <td>WITHDRAWN</td>\n",
       "      <td>2011</td>\n",
       "      <td>UTAH</td>\n",
       "      <td>Materials Scientists</td>\n",
       "      <td>MATERIALS SCIENTIST</td>\n",
       "      <td>N</td>\n",
       "      <td>70553</td>\n",
       "      <td>B &amp; D DENTAL CORP.</td>\n",
       "      <td>-112.00</td>\n",
       "      <td>40.69</td>\n",
       "    </tr>\n",
       "    <tr>\n",
       "      <th>2877762</th>\n",
       "      <td>WITHDRAWN</td>\n",
       "      <td>2011</td>\n",
       "      <td>OHIO</td>\n",
       "      <td>Market Research Analysts and Marketing Special...</td>\n",
       "      <td>MARKET RESEARCH ANALYST</td>\n",
       "      <td>Y</td>\n",
       "      <td>33800</td>\n",
       "      <td>MEDTECH STAFFING &amp; SOLUTIONS, INC</td>\n",
       "      <td>-81.52</td>\n",
       "      <td>41.08</td>\n",
       "    </tr>\n",
       "    <tr>\n",
       "      <th>2877763</th>\n",
       "      <td>WITHDRAWN</td>\n",
       "      <td>2011</td>\n",
       "      <td>MASSACHUSETTS</td>\n",
       "      <td>Commercial and Industrial Designers</td>\n",
       "      <td>DESIGN ENGINEER</td>\n",
       "      <td>Y</td>\n",
       "      <td>59800</td>\n",
       "      <td>LARSEN &amp; TOUBRO LIMITED</td>\n",
       "      <td>-71.37</td>\n",
       "      <td>42.60</td>\n",
       "    </tr>\n",
       "    <tr>\n",
       "      <th>2877764</th>\n",
       "      <td>WITHDRAWN</td>\n",
       "      <td>2011</td>\n",
       "      <td>MASSACHUSETTS</td>\n",
       "      <td>Commercial and Industrial Designers</td>\n",
       "      <td>DESIGN ENGINEER</td>\n",
       "      <td>Y</td>\n",
       "      <td>59800</td>\n",
       "      <td>LARSEN &amp; TOUBRO LIMITED</td>\n",
       "      <td>-71.37</td>\n",
       "      <td>42.60</td>\n",
       "    </tr>\n",
       "  </tbody>\n",
       "</table>\n",
       "<p>2877765 rows × 10 columns</p>\n",
       "</div>"
      ],
      "text/plain": [
       "                 CASE_STATUS  YEAR          STATE  \\\n",
       "0        CERTIFIED-WITHDRAWN  2016       MICHIGAN   \n",
       "1        CERTIFIED-WITHDRAWN  2016          TEXAS   \n",
       "2        CERTIFIED-WITHDRAWN  2016     NEW JERSEY   \n",
       "3        CERTIFIED-WITHDRAWN  2016       COLORADO   \n",
       "4                  WITHDRAWN  2016       MISSOURI   \n",
       "...                      ...   ...            ...   \n",
       "2877760            WITHDRAWN  2011     CALIFORNIA   \n",
       "2877761            WITHDRAWN  2011           UTAH   \n",
       "2877762            WITHDRAWN  2011           OHIO   \n",
       "2877763            WITHDRAWN  2011  MASSACHUSETTS   \n",
       "2877764            WITHDRAWN  2011  MASSACHUSETTS   \n",
       "\n",
       "                                                  SOC_NAME  \\\n",
       "0                            BIOCHEMISTS AND BIOPHYSICISTS   \n",
       "1                                         CHIEF EXECUTIVES   \n",
       "2                                         CHIEF EXECUTIVES   \n",
       "3                                         CHIEF EXECUTIVES   \n",
       "4                                         CHIEF EXECUTIVES   \n",
       "...                                                    ...   \n",
       "2877760                  Software Developers, Applications   \n",
       "2877761                               Materials Scientists   \n",
       "2877762  Market Research Analysts and Marketing Special...   \n",
       "2877763                Commercial and Industrial Designers   \n",
       "2877764                Commercial and Industrial Designers   \n",
       "\n",
       "                                        JOB_TITLE FULL_T  PREV_WAGE  \\\n",
       "0                    POSTDOCTORAL RESEARCH FELLOW      N      36067   \n",
       "1                         CHIEF OPERATING OFFICER      Y     242674   \n",
       "2                           CHIEF PROCESS OFFICER      Y     193066   \n",
       "3                     REGIONAL PRESIDEN, AMERICAS      Y     220314   \n",
       "4                    PRESIDENT MONGOLIA AND INDIA      Y     157518   \n",
       "...                                           ...    ...        ...   \n",
       "2877760  SOFTWARE ENGINEER (SOFTWARE DEVELOPER 2)      Y      64800   \n",
       "2877761                       MATERIALS SCIENTIST      N      70553   \n",
       "2877762                   MARKET RESEARCH ANALYST      Y      33800   \n",
       "2877763                           DESIGN ENGINEER      Y      59800   \n",
       "2877764                           DESIGN ENGINEER      Y      59800   \n",
       "\n",
       "                                                  EMPLOYER     LON    LAT  \n",
       "0                                   UNIVERSITY OF MICHIGAN  -83.74  42.28  \n",
       "1                                   GOODMAN NETWORKS, INC.  -96.70  33.02  \n",
       "2                                PORTS AMERICA GROUP, INC.  -74.08  40.73  \n",
       "3        GATES CORPORATION, A WHOLLY-OWNED SUBSIDIARY O... -104.99  39.74  \n",
       "4                                PEABODY INVESTMENTS CORP.  -90.20  38.63  \n",
       "...                                                    ...     ...    ...  \n",
       "2877760                               ORACLE AMERICA, INC. -122.25  37.54  \n",
       "2877761                                 B & D DENTAL CORP. -112.00  40.69  \n",
       "2877762                  MEDTECH STAFFING & SOLUTIONS, INC  -81.52  41.08  \n",
       "2877763                            LARSEN & TOUBRO LIMITED  -71.37  42.60  \n",
       "2877764                            LARSEN & TOUBRO LIMITED  -71.37  42.60  \n",
       "\n",
       "[2877765 rows x 10 columns]"
      ]
     },
     "execution_count": 30,
     "metadata": {},
     "output_type": "execute_result"
    }
   ],
   "source": [
    "df['LON'] = df['LON'].round(2)\n",
    "df['LAT'] = df['LAT'].round(2)\n",
    "df['YEAR'] = df['YEAR'].astype(int)\n",
    "df['YEAR'] = df['YEAR'].astype(str)\n",
    "df['PREV_WAGE'] = df['PREV_WAGE'].astype(int)\n",
    "df"
   ]
  },
  {
   "cell_type": "markdown",
   "metadata": {},
   "source": [
    "__show top 3 values to check above operations__"
   ]
  },
  {
   "cell_type": "code",
   "execution_count": 31,
   "metadata": {},
   "outputs": [
    {
     "data": {
      "text/html": [
       "<div>\n",
       "<style scoped>\n",
       "    .dataframe tbody tr th:only-of-type {\n",
       "        vertical-align: middle;\n",
       "    }\n",
       "\n",
       "    .dataframe tbody tr th {\n",
       "        vertical-align: top;\n",
       "    }\n",
       "\n",
       "    .dataframe thead th {\n",
       "        text-align: right;\n",
       "    }\n",
       "</style>\n",
       "<table border=\"1\" class=\"dataframe\">\n",
       "  <thead>\n",
       "    <tr style=\"text-align: right;\">\n",
       "      <th></th>\n",
       "      <th>CASE_STATUS</th>\n",
       "      <th>YEAR</th>\n",
       "      <th>STATE</th>\n",
       "      <th>SOC_NAME</th>\n",
       "      <th>JOB_TITLE</th>\n",
       "      <th>FULL_T</th>\n",
       "      <th>PREV_WAGE</th>\n",
       "      <th>EMPLOYER</th>\n",
       "      <th>LON</th>\n",
       "      <th>LAT</th>\n",
       "    </tr>\n",
       "  </thead>\n",
       "  <tbody>\n",
       "    <tr>\n",
       "      <th>0</th>\n",
       "      <td>CERTIFIED-WITHDRAWN</td>\n",
       "      <td>2016</td>\n",
       "      <td>MICHIGAN</td>\n",
       "      <td>BIOCHEMISTS AND BIOPHYSICISTS</td>\n",
       "      <td>POSTDOCTORAL RESEARCH FELLOW</td>\n",
       "      <td>N</td>\n",
       "      <td>36067</td>\n",
       "      <td>UNIVERSITY OF MICHIGAN</td>\n",
       "      <td>-83.74</td>\n",
       "      <td>42.28</td>\n",
       "    </tr>\n",
       "    <tr>\n",
       "      <th>1</th>\n",
       "      <td>CERTIFIED-WITHDRAWN</td>\n",
       "      <td>2016</td>\n",
       "      <td>TEXAS</td>\n",
       "      <td>CHIEF EXECUTIVES</td>\n",
       "      <td>CHIEF OPERATING OFFICER</td>\n",
       "      <td>Y</td>\n",
       "      <td>242674</td>\n",
       "      <td>GOODMAN NETWORKS, INC.</td>\n",
       "      <td>-96.70</td>\n",
       "      <td>33.02</td>\n",
       "    </tr>\n",
       "    <tr>\n",
       "      <th>2</th>\n",
       "      <td>CERTIFIED-WITHDRAWN</td>\n",
       "      <td>2016</td>\n",
       "      <td>NEW JERSEY</td>\n",
       "      <td>CHIEF EXECUTIVES</td>\n",
       "      <td>CHIEF PROCESS OFFICER</td>\n",
       "      <td>Y</td>\n",
       "      <td>193066</td>\n",
       "      <td>PORTS AMERICA GROUP, INC.</td>\n",
       "      <td>-74.08</td>\n",
       "      <td>40.73</td>\n",
       "    </tr>\n",
       "  </tbody>\n",
       "</table>\n",
       "</div>"
      ],
      "text/plain": [
       "           CASE_STATUS  YEAR       STATE                       SOC_NAME  \\\n",
       "0  CERTIFIED-WITHDRAWN  2016    MICHIGAN  BIOCHEMISTS AND BIOPHYSICISTS   \n",
       "1  CERTIFIED-WITHDRAWN  2016       TEXAS               CHIEF EXECUTIVES   \n",
       "2  CERTIFIED-WITHDRAWN  2016  NEW JERSEY               CHIEF EXECUTIVES   \n",
       "\n",
       "                      JOB_TITLE FULL_T  PREV_WAGE                   EMPLOYER  \\\n",
       "0  POSTDOCTORAL RESEARCH FELLOW      N      36067     UNIVERSITY OF MICHIGAN   \n",
       "1       CHIEF OPERATING OFFICER      Y     242674     GOODMAN NETWORKS, INC.   \n",
       "2         CHIEF PROCESS OFFICER      Y     193066  PORTS AMERICA GROUP, INC.   \n",
       "\n",
       "     LON    LAT  \n",
       "0 -83.74  42.28  \n",
       "1 -96.70  33.02  \n",
       "2 -74.08  40.73  "
      ]
     },
     "execution_count": 31,
     "metadata": {},
     "output_type": "execute_result"
    }
   ],
   "source": [
    "df.head(3)"
   ]
  },
  {
   "cell_type": "markdown",
   "metadata": {},
   "source": [
    "### __show unique values of CASE_STATUS Column__"
   ]
  },
  {
   "cell_type": "code",
   "execution_count": 32,
   "metadata": {},
   "outputs": [
    {
     "data": {
      "text/plain": [
       "array(['CERTIFIED-WITHDRAWN', 'WITHDRAWN', 'CERTIFIED', 'DENIED',\n",
       "       'REJECTED', 'INVALIDATED',\n",
       "       'PENDING QUALITY AND COMPLIANCE REVIEW - UNASSIGNED'], dtype=object)"
      ]
     },
     "execution_count": 32,
     "metadata": {},
     "output_type": "execute_result"
    }
   ],
   "source": [
    "df[\"CASE_STATUS\"].unique()\n"
   ]
  },
  {
   "cell_type": "markdown",
   "metadata": {},
   "source": [
    "# Calculate the petitions distributions by status"
   ]
  },
  {
   "cell_type": "code",
   "execution_count": 33,
   "metadata": {},
   "outputs": [
    {
     "data": {
      "text/plain": [
       "array(['CERTIFIED-WITHDRAWN', 'WITHDRAWN', 'CERTIFIED', 'DENIED',\n",
       "       'REJECTED', 'INVALIDATED',\n",
       "       'PENDING QUALITY AND COMPLIANCE REVIEW - UNASSIGNED'], dtype=object)"
      ]
     },
     "execution_count": 33,
     "metadata": {},
     "output_type": "execute_result"
    }
   ],
   "source": [
    "t=df[\"CASE_STATUS\"].unique()\n",
    "t"
   ]
  },
  {
   "cell_type": "code",
   "execution_count": 34,
   "metadata": {},
   "outputs": [
    {
     "data": {
      "text/plain": [
       "[2512114, 195721, 85161, 84752, 15, 1, 1]"
      ]
     },
     "execution_count": 34,
     "metadata": {},
     "output_type": "execute_result"
    }
   ],
   "source": [
    "x=df[\"CASE_STATUS\"].value_counts()\n",
    "x.tolist()"
   ]
  },
  {
   "cell_type": "code",
   "execution_count": 35,
   "metadata": {},
   "outputs": [],
   "source": [
    "from matplotlib.pyplot import pie,axis,show\n",
    "import matplotlib as mpl"
   ]
  },
  {
   "cell_type": "markdown",
   "metadata": {},
   "source": [
    "#### PETITIONS BY CASE STATUS"
   ]
  },
  {
   "cell_type": "code",
   "execution_count": 36,
   "metadata": {},
   "outputs": [],
   "source": [
    "total=x.sum()\n",
    "filtered_x = {k: v for k, v in x.items() if (v / total) * 100 > 1}\n",
    "filtered_x=pd.Series(filtered_x)"
   ]
  },
  {
   "cell_type": "code",
   "execution_count": 37,
   "metadata": {},
   "outputs": [
    {
     "data": {
      "image/png": "[encoded data removed]",
      "text/plain": [
       "<Figure size 800x400 with 1 Axes>"
      ]
     },
     "metadata": {},
     "output_type": "display_data"
    }
   ],
   "source": [
    "plt.figure(figsize=(8, 4))\n",
    "colors = ['green', 'orange', 'blue', 'red', 'purple', 'brown', 'pink', 'green', 'red']\n",
    "filtered_x.plot(kind='pie', colors=colors[:len(x)], textprops={'fontsize': 7})\n",
    "plt.title('PETITIONS BY CASE STATUS')\n",
    "plt.ylabel('')\n",
    "plt.tight_layout()\n",
    "plt.show()"
   ]
  },
  {
   "cell_type": "markdown",
   "metadata": {},
   "source": [
    "# Calculating the petitions distributions by year"
   ]
  },
  {
   "cell_type": "code",
   "execution_count": 38,
   "metadata": {},
   "outputs": [
    {
     "data": {
      "text/plain": [
       "[333625, 394267, 422427, 498027, 600120, 629299]"
      ]
     },
     "execution_count": 38,
     "metadata": {},
     "output_type": "execute_result"
    }
   ],
   "source": [
    "df['YEAR'] = df['YEAR'].astype(str)\n",
    "petitions_by_year = df['YEAR'].value_counts().sort_index()\n",
    "petitions_by_year.tolist()"
   ]
  },
  {
   "cell_type": "code",
   "execution_count": 39,
   "metadata": {},
   "outputs": [
    {
     "data": {
      "image/png": "[encoded data removed]",
      "text/plain": [
       "<Figure size 900x300 with 1 Axes>"
      ]
     },
     "metadata": {},
     "output_type": "display_data"
    }
   ],
   "source": [
    "plt.figure(figsize=(9, 3))\n",
    "colors = ['green', 'orange', 'blue', 'red', 'purple', 'brown', 'pink', 'green', 'red']\n",
    "petitions_by_year.plot(kind='bar', color=colors,width=0.8)\n",
    "plt.title('Petitions Distribution by Year')\n",
    "plt.xlabel('Year')\n",
    "plt.ylabel('Number of Petitions')\n",
    "plt.xticks(rotation=0)\n",
    "plt.tight_layout()\n",
    "plt.show()"
   ]
  },
  {
   "cell_type": "code",
   "execution_count": 40,
   "metadata": {},
   "outputs": [
    {
     "data": {
      "text/plain": [
       "<Axes: title={'center': 'petitions distributions by year'}, ylabel='count'>"
      ]
     },
     "execution_count": 40,
     "metadata": {},
     "output_type": "execute_result"
    },
    {
     "data": {
      "image/png": "[encoded data removed]",
      "text/plain": [
       "<Figure size 1300x300 with 1 Axes>"
      ]
     },
     "metadata": {},
     "output_type": "display_data"
    }
   ],
   "source": [
    "sns.set_context(\"notebook\",font_scale=1.0)\n",
    "plt.figure(figsize=(13,3))\n",
    "plt.title('petitions distributions by year')\n",
    "sns.countplot(df['YEAR'])"
   ]
  },
  {
   "cell_type": "code",
   "execution_count": 41,
   "metadata": {},
   "outputs": [
    {
     "data": {
      "text/plain": [
       "85161"
      ]
     },
     "execution_count": 41,
     "metadata": {},
     "output_type": "execute_result"
    }
   ],
   "source": [
    "denied = df[df.CASE_STATUS == 'DENIED']\n",
    "len(denied)"
   ]
  },
  {
   "cell_type": "code",
   "execution_count": 42,
   "metadata": {},
   "outputs": [],
   "source": [
    "del denied['CASE_STATUS']"
   ]
  },
  {
   "cell_type": "code",
   "execution_count": 43,
   "metadata": {},
   "outputs": [
    {
     "data": {
      "text/html": [
       "<div>\n",
       "<style scoped>\n",
       "    .dataframe tbody tr th:only-of-type {\n",
       "        vertical-align: middle;\n",
       "    }\n",
       "\n",
       "    .dataframe tbody tr th {\n",
       "        vertical-align: top;\n",
       "    }\n",
       "\n",
       "    .dataframe thead th {\n",
       "        text-align: right;\n",
       "    }\n",
       "</style>\n",
       "<table border=\"1\" class=\"dataframe\">\n",
       "  <thead>\n",
       "    <tr style=\"text-align: right;\">\n",
       "      <th></th>\n",
       "      <th>index</th>\n",
       "      <th>YEAR</th>\n",
       "      <th>STATE</th>\n",
       "      <th>SOC_NAME</th>\n",
       "      <th>JOB_TITLE</th>\n",
       "      <th>FULL_T</th>\n",
       "      <th>PREV_WAGE</th>\n",
       "      <th>EMPLOYER</th>\n",
       "      <th>LON</th>\n",
       "      <th>LAT</th>\n",
       "    </tr>\n",
       "  </thead>\n",
       "  <tbody>\n",
       "    <tr>\n",
       "      <th>0</th>\n",
       "      <td>37</td>\n",
       "      <td>2016</td>\n",
       "      <td>WASHINGTON</td>\n",
       "      <td>CHIEF EXECUTIVES</td>\n",
       "      <td>CHIEF EXECUTIVE OFFICER</td>\n",
       "      <td>Y</td>\n",
       "      <td>187200</td>\n",
       "      <td>PARALLELS, INC.</td>\n",
       "      <td>-122.22</td>\n",
       "      <td>47.48</td>\n",
       "    </tr>\n",
       "    <tr>\n",
       "      <th>1</th>\n",
       "      <td>44</td>\n",
       "      <td>2016</td>\n",
       "      <td>CALIFORNIA</td>\n",
       "      <td>CHIEF EXECUTIVES</td>\n",
       "      <td>PRESIDENT</td>\n",
       "      <td>Y</td>\n",
       "      <td>197683</td>\n",
       "      <td>RANCHO LA PUERTA LLC</td>\n",
       "      <td>-117.16</td>\n",
       "      <td>32.72</td>\n",
       "    </tr>\n",
       "    <tr>\n",
       "      <th>2</th>\n",
       "      <td>87</td>\n",
       "      <td>2016</td>\n",
       "      <td>ILLINOIS</td>\n",
       "      <td>CHIEF EXECUTIVES</td>\n",
       "      <td>PRINCIPAL (ATTORNEY) AND CHAIRMAN OF THE EXECU...</td>\n",
       "      <td>Y</td>\n",
       "      <td>226699</td>\n",
       "      <td>BAKER &amp; MCKENZIE PC</td>\n",
       "      <td>-87.63</td>\n",
       "      <td>41.88</td>\n",
       "    </tr>\n",
       "    <tr>\n",
       "      <th>3</th>\n",
       "      <td>90</td>\n",
       "      <td>2016</td>\n",
       "      <td>FLORIDA</td>\n",
       "      <td>CHIEF EXECUTIVES</td>\n",
       "      <td>VP DIGITAL STRATEGY</td>\n",
       "      <td>Y</td>\n",
       "      <td>202363</td>\n",
       "      <td>MANITOWOC FSG OPERATIONS, LLC</td>\n",
       "      <td>-82.72</td>\n",
       "      <td>28.24</td>\n",
       "    </tr>\n",
       "    <tr>\n",
       "      <th>4</th>\n",
       "      <td>100</td>\n",
       "      <td>2016</td>\n",
       "      <td>NEW YORK</td>\n",
       "      <td>CHIEF EXECUTIVES</td>\n",
       "      <td>OPERATIONS DIRECTOR</td>\n",
       "      <td>Y</td>\n",
       "      <td>74276</td>\n",
       "      <td>TMS PLUMBING AND HEATING CORP</td>\n",
       "      <td>-74.01</td>\n",
       "      <td>40.71</td>\n",
       "    </tr>\n",
       "  </tbody>\n",
       "</table>\n",
       "</div>"
      ],
      "text/plain": [
       "   index  YEAR       STATE          SOC_NAME  \\\n",
       "0     37  2016  WASHINGTON  CHIEF EXECUTIVES   \n",
       "1     44  2016  CALIFORNIA  CHIEF EXECUTIVES   \n",
       "2     87  2016    ILLINOIS  CHIEF EXECUTIVES   \n",
       "3     90  2016     FLORIDA  CHIEF EXECUTIVES   \n",
       "4    100  2016    NEW YORK  CHIEF EXECUTIVES   \n",
       "\n",
       "                                           JOB_TITLE FULL_T  PREV_WAGE  \\\n",
       "0                            CHIEF EXECUTIVE OFFICER      Y     187200   \n",
       "1                                          PRESIDENT      Y     197683   \n",
       "2  PRINCIPAL (ATTORNEY) AND CHAIRMAN OF THE EXECU...      Y     226699   \n",
       "3                                VP DIGITAL STRATEGY      Y     202363   \n",
       "4                                OPERATIONS DIRECTOR      Y      74276   \n",
       "\n",
       "                        EMPLOYER     LON    LAT  \n",
       "0                PARALLELS, INC. -122.22  47.48  \n",
       "1           RANCHO LA PUERTA LLC -117.16  32.72  \n",
       "2            BAKER & MCKENZIE PC  -87.63  41.88  \n",
       "3  MANITOWOC FSG OPERATIONS, LLC  -82.72  28.24  \n",
       "4  TMS PLUMBING AND HEATING CORP  -74.01  40.71  "
      ]
     },
     "execution_count": 43,
     "metadata": {},
     "output_type": "execute_result"
    }
   ],
   "source": [
    "denied = denied.reset_index()\n",
    "denied.head()"
   ]
  },
  {
   "cell_type": "code",
   "execution_count": 44,
   "metadata": {},
   "outputs": [
    {
     "data": {
      "text/plain": [
       "['2016', '2015', '2014', '2013', '2012', '2011']"
      ]
     },
     "execution_count": 44,
     "metadata": {},
     "output_type": "execute_result"
    }
   ],
   "source": [
    "denied_year_count = [0]* 6\n",
    "\n",
    "years=denied[\"YEAR\"].unique()\n",
    "years=years.tolist()\n",
    "years"
   ]
  },
  {
   "cell_type": "code",
   "execution_count": 45,
   "metadata": {},
   "outputs": [],
   "source": [
    "for i in range(0,6):\n",
    "    denied_year_count[i] = denied[denied.YEAR == years[i]]['YEAR'].count()"
   ]
  },
  {
   "cell_type": "code",
   "execution_count": 46,
   "metadata": {},
   "outputs": [
    {
     "data": {
      "text/plain": [
       "[25986, 18866, 10976, 10816, 10037, 8480]"
      ]
     },
     "execution_count": 46,
     "metadata": {},
     "output_type": "execute_result"
    }
   ],
   "source": [
    "denied_year_count.sort(reverse=True)\n",
    "denied_year_count"
   ]
  },
  {
   "cell_type": "markdown",
   "metadata": {},
   "source": [
    "### Denied PETITIONS DISTRIBUTION BY YEAR"
   ]
  },
  {
   "cell_type": "code",
   "execution_count": 47,
   "metadata": {},
   "outputs": [
    {
     "data": {
      "image/png": "[encoded data removed]",
      "text/plain": [
       "<Figure size 800x400 with 1 Axes>"
      ]
     },
     "metadata": {},
     "output_type": "display_data"
    }
   ],
   "source": [
    "denied_year_count = denied['YEAR'].value_counts().sort_index()\n",
    "plt.figure(figsize=(8, 4))\n",
    "colors = ['green', 'orange', 'blue', 'red', 'purple', 'brown', 'pink', 'green', 'red']\n",
    "denied_year_count.plot(kind='bar', color=colors,width=0.8)\n",
    "plt.title('Denied Petitions Distribution by Year')\n",
    "plt.xlabel('Year')\n",
    "plt.ylabel('Count')\n",
    "plt.xticks(rotation=0)\n",
    "plt.tight_layout()\n",
    "plt.show()"
   ]
  },
  {
   "cell_type": "markdown",
   "metadata": {},
   "source": [
    "#### Denied % Rate By Year"
   ]
  },
  {
   "cell_type": "code",
   "execution_count": 48,
   "metadata": {},
   "outputs": [
    {
     "data": {
      "text/html": [
       "<div>\n",
       "<style scoped>\n",
       "    .dataframe tbody tr th:only-of-type {\n",
       "        vertical-align: middle;\n",
       "    }\n",
       "\n",
       "    .dataframe tbody tr th {\n",
       "        vertical-align: top;\n",
       "    }\n",
       "\n",
       "    .dataframe thead th {\n",
       "        text-align: right;\n",
       "    }\n",
       "</style>\n",
       "<table border=\"1\" class=\"dataframe\">\n",
       "  <thead>\n",
       "    <tr style=\"text-align: right;\">\n",
       "      <th>year</th>\n",
       "      <th>2011</th>\n",
       "      <th>2012</th>\n",
       "      <th>2013</th>\n",
       "      <th>2014</th>\n",
       "      <th>2015</th>\n",
       "      <th>2016</th>\n",
       "    </tr>\n",
       "  </thead>\n",
       "  <tbody>\n",
       "    <tr>\n",
       "      <th>denied rate %</th>\n",
       "      <td>7.79</td>\n",
       "      <td>4.79</td>\n",
       "      <td>2.6</td>\n",
       "      <td>2.17</td>\n",
       "      <td>1.67</td>\n",
       "      <td>1.35</td>\n",
       "    </tr>\n",
       "  </tbody>\n",
       "</table>\n",
       "</div>"
      ],
      "text/plain": [
       "year           2011  2012  2013  2014  2015  2016\n",
       "denied rate %  7.79  4.79   2.6  2.17  1.67  1.35"
      ]
     },
     "execution_count": 48,
     "metadata": {},
     "output_type": "execute_result"
    }
   ],
   "source": [
    "ans={}\n",
    "year_count=df['YEAR'].value_counts()\n",
    "for year in denied_year_count.index:\n",
    "    ans[year]=round((denied_year_count[year]/year_count[year])*100,2)\n",
    "df_ans = pd.DataFrame(ans, index=['denied rate %'])\n",
    "df_ans = df_ans.rename_axis('year', axis=1)\n",
    "df_ans"
   ]
  },
  {
   "cell_type": "code",
   "execution_count": 49,
   "metadata": {},
   "outputs": [],
   "source": [
    "ans=pd.Series(ans)"
   ]
  },
  {
   "cell_type": "code",
   "execution_count": 50,
   "metadata": {},
   "outputs": [
    {
     "data": {
      "image/png": "[encoded data removed]",
      "text/plain": [
       "<Figure size 900x300 with 1 Axes>"
      ]
     },
     "metadata": {},
     "output_type": "display_data"
    }
   ],
   "source": [
    "plt.figure(figsize=(9, 3))\n",
    "plt.bar(ans.index,ans,color=['blue', 'orange', 'green', 'red', 'purple', 'brown'])\n",
    "plt.xlabel('Year')\n",
    "plt.ylabel('Denied Petitions Rate %')\n",
    "plt.title('Denied Petitions Rate by Year')\n",
    "plt.yticks([0,2,4,6,8])\n",
    "plt.show()"
   ]
  },
  {
   "cell_type": "markdown",
   "metadata": {},
   "source": [
    "## Calculate the number of petitions filed by the States"
   ]
  },
  {
   "cell_type": "code",
   "execution_count": 51,
   "metadata": {},
   "outputs": [
    {
     "data": {
      "text/html": [
       "<div>\n",
       "<style scoped>\n",
       "    .dataframe tbody tr th:only-of-type {\n",
       "        vertical-align: middle;\n",
       "    }\n",
       "\n",
       "    .dataframe tbody tr th {\n",
       "        vertical-align: top;\n",
       "    }\n",
       "\n",
       "    .dataframe thead th {\n",
       "        text-align: right;\n",
       "    }\n",
       "</style>\n",
       "<table border=\"1\" class=\"dataframe\">\n",
       "  <thead>\n",
       "    <tr style=\"text-align: right;\">\n",
       "      <th></th>\n",
       "      <th>CASE_STATUS</th>\n",
       "      <th>YEAR</th>\n",
       "      <th>STATE</th>\n",
       "      <th>SOC_NAME</th>\n",
       "      <th>JOB_TITLE</th>\n",
       "      <th>FULL_T</th>\n",
       "      <th>PREV_WAGE</th>\n",
       "      <th>EMPLOYER</th>\n",
       "      <th>LON</th>\n",
       "      <th>LAT</th>\n",
       "    </tr>\n",
       "  </thead>\n",
       "  <tbody>\n",
       "    <tr>\n",
       "      <th>0</th>\n",
       "      <td>CERTIFIED-WITHDRAWN</td>\n",
       "      <td>2016</td>\n",
       "      <td>MICHIGAN</td>\n",
       "      <td>BIOCHEMISTS AND BIOPHYSICISTS</td>\n",
       "      <td>POSTDOCTORAL RESEARCH FELLOW</td>\n",
       "      <td>N</td>\n",
       "      <td>36067</td>\n",
       "      <td>UNIVERSITY OF MICHIGAN</td>\n",
       "      <td>-83.74</td>\n",
       "      <td>42.28</td>\n",
       "    </tr>\n",
       "    <tr>\n",
       "      <th>1</th>\n",
       "      <td>CERTIFIED-WITHDRAWN</td>\n",
       "      <td>2016</td>\n",
       "      <td>TEXAS</td>\n",
       "      <td>CHIEF EXECUTIVES</td>\n",
       "      <td>CHIEF OPERATING OFFICER</td>\n",
       "      <td>Y</td>\n",
       "      <td>242674</td>\n",
       "      <td>GOODMAN NETWORKS, INC.</td>\n",
       "      <td>-96.70</td>\n",
       "      <td>33.02</td>\n",
       "    </tr>\n",
       "    <tr>\n",
       "      <th>2</th>\n",
       "      <td>CERTIFIED-WITHDRAWN</td>\n",
       "      <td>2016</td>\n",
       "      <td>NEW JERSEY</td>\n",
       "      <td>CHIEF EXECUTIVES</td>\n",
       "      <td>CHIEF PROCESS OFFICER</td>\n",
       "      <td>Y</td>\n",
       "      <td>193066</td>\n",
       "      <td>PORTS AMERICA GROUP, INC.</td>\n",
       "      <td>-74.08</td>\n",
       "      <td>40.73</td>\n",
       "    </tr>\n",
       "    <tr>\n",
       "      <th>3</th>\n",
       "      <td>CERTIFIED-WITHDRAWN</td>\n",
       "      <td>2016</td>\n",
       "      <td>COLORADO</td>\n",
       "      <td>CHIEF EXECUTIVES</td>\n",
       "      <td>REGIONAL PRESIDEN, AMERICAS</td>\n",
       "      <td>Y</td>\n",
       "      <td>220314</td>\n",
       "      <td>GATES CORPORATION, A WHOLLY-OWNED SUBSIDIARY O...</td>\n",
       "      <td>-104.99</td>\n",
       "      <td>39.74</td>\n",
       "    </tr>\n",
       "    <tr>\n",
       "      <th>4</th>\n",
       "      <td>WITHDRAWN</td>\n",
       "      <td>2016</td>\n",
       "      <td>MISSOURI</td>\n",
       "      <td>CHIEF EXECUTIVES</td>\n",
       "      <td>PRESIDENT MONGOLIA AND INDIA</td>\n",
       "      <td>Y</td>\n",
       "      <td>157518</td>\n",
       "      <td>PEABODY INVESTMENTS CORP.</td>\n",
       "      <td>-90.20</td>\n",
       "      <td>38.63</td>\n",
       "    </tr>\n",
       "    <tr>\n",
       "      <th>...</th>\n",
       "      <td>...</td>\n",
       "      <td>...</td>\n",
       "      <td>...</td>\n",
       "      <td>...</td>\n",
       "      <td>...</td>\n",
       "      <td>...</td>\n",
       "      <td>...</td>\n",
       "      <td>...</td>\n",
       "      <td>...</td>\n",
       "      <td>...</td>\n",
       "    </tr>\n",
       "    <tr>\n",
       "      <th>2877760</th>\n",
       "      <td>WITHDRAWN</td>\n",
       "      <td>2011</td>\n",
       "      <td>CALIFORNIA</td>\n",
       "      <td>Software Developers, Applications</td>\n",
       "      <td>SOFTWARE ENGINEER (SOFTWARE DEVELOPER 2)</td>\n",
       "      <td>Y</td>\n",
       "      <td>64800</td>\n",
       "      <td>ORACLE AMERICA, INC.</td>\n",
       "      <td>-122.25</td>\n",
       "      <td>37.54</td>\n",
       "    </tr>\n",
       "    <tr>\n",
       "      <th>2877761</th>\n",
       "      <td>WITHDRAWN</td>\n",
       "      <td>2011</td>\n",
       "      <td>UTAH</td>\n",
       "      <td>Materials Scientists</td>\n",
       "      <td>MATERIALS SCIENTIST</td>\n",
       "      <td>N</td>\n",
       "      <td>70553</td>\n",
       "      <td>B &amp; D DENTAL CORP.</td>\n",
       "      <td>-112.00</td>\n",
       "      <td>40.69</td>\n",
       "    </tr>\n",
       "    <tr>\n",
       "      <th>2877762</th>\n",
       "      <td>WITHDRAWN</td>\n",
       "      <td>2011</td>\n",
       "      <td>OHIO</td>\n",
       "      <td>Market Research Analysts and Marketing Special...</td>\n",
       "      <td>MARKET RESEARCH ANALYST</td>\n",
       "      <td>Y</td>\n",
       "      <td>33800</td>\n",
       "      <td>MEDTECH STAFFING &amp; SOLUTIONS, INC</td>\n",
       "      <td>-81.52</td>\n",
       "      <td>41.08</td>\n",
       "    </tr>\n",
       "    <tr>\n",
       "      <th>2877763</th>\n",
       "      <td>WITHDRAWN</td>\n",
       "      <td>2011</td>\n",
       "      <td>MASSACHUSETTS</td>\n",
       "      <td>Commercial and Industrial Designers</td>\n",
       "      <td>DESIGN ENGINEER</td>\n",
       "      <td>Y</td>\n",
       "      <td>59800</td>\n",
       "      <td>LARSEN &amp; TOUBRO LIMITED</td>\n",
       "      <td>-71.37</td>\n",
       "      <td>42.60</td>\n",
       "    </tr>\n",
       "    <tr>\n",
       "      <th>2877764</th>\n",
       "      <td>WITHDRAWN</td>\n",
       "      <td>2011</td>\n",
       "      <td>MASSACHUSETTS</td>\n",
       "      <td>Commercial and Industrial Designers</td>\n",
       "      <td>DESIGN ENGINEER</td>\n",
       "      <td>Y</td>\n",
       "      <td>59800</td>\n",
       "      <td>LARSEN &amp; TOUBRO LIMITED</td>\n",
       "      <td>-71.37</td>\n",
       "      <td>42.60</td>\n",
       "    </tr>\n",
       "  </tbody>\n",
       "</table>\n",
       "<p>2877765 rows × 10 columns</p>\n",
       "</div>"
      ],
      "text/plain": [
       "                 CASE_STATUS  YEAR          STATE  \\\n",
       "0        CERTIFIED-WITHDRAWN  2016       MICHIGAN   \n",
       "1        CERTIFIED-WITHDRAWN  2016          TEXAS   \n",
       "2        CERTIFIED-WITHDRAWN  2016     NEW JERSEY   \n",
       "3        CERTIFIED-WITHDRAWN  2016       COLORADO   \n",
       "4                  WITHDRAWN  2016       MISSOURI   \n",
       "...                      ...   ...            ...   \n",
       "2877760            WITHDRAWN  2011     CALIFORNIA   \n",
       "2877761            WITHDRAWN  2011           UTAH   \n",
       "2877762            WITHDRAWN  2011           OHIO   \n",
       "2877763            WITHDRAWN  2011  MASSACHUSETTS   \n",
       "2877764            WITHDRAWN  2011  MASSACHUSETTS   \n",
       "\n",
       "                                                  SOC_NAME  \\\n",
       "0                            BIOCHEMISTS AND BIOPHYSICISTS   \n",
       "1                                         CHIEF EXECUTIVES   \n",
       "2                                         CHIEF EXECUTIVES   \n",
       "3                                         CHIEF EXECUTIVES   \n",
       "4                                         CHIEF EXECUTIVES   \n",
       "...                                                    ...   \n",
       "2877760                  Software Developers, Applications   \n",
       "2877761                               Materials Scientists   \n",
       "2877762  Market Research Analysts and Marketing Special...   \n",
       "2877763                Commercial and Industrial Designers   \n",
       "2877764                Commercial and Industrial Designers   \n",
       "\n",
       "                                        JOB_TITLE FULL_T  PREV_WAGE  \\\n",
       "0                    POSTDOCTORAL RESEARCH FELLOW      N      36067   \n",
       "1                         CHIEF OPERATING OFFICER      Y     242674   \n",
       "2                           CHIEF PROCESS OFFICER      Y     193066   \n",
       "3                     REGIONAL PRESIDEN, AMERICAS      Y     220314   \n",
       "4                    PRESIDENT MONGOLIA AND INDIA      Y     157518   \n",
       "...                                           ...    ...        ...   \n",
       "2877760  SOFTWARE ENGINEER (SOFTWARE DEVELOPER 2)      Y      64800   \n",
       "2877761                       MATERIALS SCIENTIST      N      70553   \n",
       "2877762                   MARKET RESEARCH ANALYST      Y      33800   \n",
       "2877763                           DESIGN ENGINEER      Y      59800   \n",
       "2877764                           DESIGN ENGINEER      Y      59800   \n",
       "\n",
       "                                                  EMPLOYER     LON    LAT  \n",
       "0                                   UNIVERSITY OF MICHIGAN  -83.74  42.28  \n",
       "1                                   GOODMAN NETWORKS, INC.  -96.70  33.02  \n",
       "2                                PORTS AMERICA GROUP, INC.  -74.08  40.73  \n",
       "3        GATES CORPORATION, A WHOLLY-OWNED SUBSIDIARY O... -104.99  39.74  \n",
       "4                                PEABODY INVESTMENTS CORP.  -90.20  38.63  \n",
       "...                                                    ...     ...    ...  \n",
       "2877760                               ORACLE AMERICA, INC. -122.25  37.54  \n",
       "2877761                                 B & D DENTAL CORP. -112.00  40.69  \n",
       "2877762                  MEDTECH STAFFING & SOLUTIONS, INC  -81.52  41.08  \n",
       "2877763                            LARSEN & TOUBRO LIMITED  -71.37  42.60  \n",
       "2877764                            LARSEN & TOUBRO LIMITED  -71.37  42.60  \n",
       "\n",
       "[2877765 rows x 10 columns]"
      ]
     },
     "execution_count": 51,
     "metadata": {},
     "output_type": "execute_result"
    }
   ],
   "source": [
    "df"
   ]
  },
  {
   "cell_type": "code",
   "execution_count": 52,
   "metadata": {},
   "outputs": [
    {
     "data": {
      "text/plain": [
       "Index(['CASE_STATUS', 'YEAR', 'STATE', 'SOC_NAME', 'JOB_TITLE', 'FULL_T',\n",
       "       'PREV_WAGE', 'EMPLOYER', 'LON', 'LAT'],\n",
       "      dtype='object')"
      ]
     },
     "execution_count": 52,
     "metadata": {},
     "output_type": "execute_result"
    }
   ],
   "source": [
    "df.columns"
   ]
  },
  {
   "cell_type": "markdown",
   "metadata": {},
   "source": [
    "**unique stats sorted**"
   ]
  },
  {
   "cell_type": "code",
   "execution_count": 53,
   "metadata": {},
   "outputs": [
    {
     "data": {
      "text/html": [
       "<div>\n",
       "<style scoped>\n",
       "    .dataframe tbody tr th:only-of-type {\n",
       "        vertical-align: middle;\n",
       "    }\n",
       "\n",
       "    .dataframe tbody tr th {\n",
       "        vertical-align: top;\n",
       "    }\n",
       "\n",
       "    .dataframe thead th {\n",
       "        text-align: right;\n",
       "    }\n",
       "</style>\n",
       "<table border=\"1\" class=\"dataframe\">\n",
       "  <thead>\n",
       "    <tr style=\"text-align: right;\">\n",
       "      <th></th>\n",
       "      <th>CASE_STATUS</th>\n",
       "      <th>YEAR</th>\n",
       "      <th>STATE</th>\n",
       "      <th>SOC_NAME</th>\n",
       "      <th>JOB_TITLE</th>\n",
       "      <th>FULL_T</th>\n",
       "      <th>PREV_WAGE</th>\n",
       "      <th>EMPLOYER</th>\n",
       "      <th>LON</th>\n",
       "      <th>LAT</th>\n",
       "    </tr>\n",
       "  </thead>\n",
       "  <tbody>\n",
       "    <tr>\n",
       "      <th>191</th>\n",
       "      <td>CERTIFIED</td>\n",
       "      <td>2016</td>\n",
       "      <td>MARIANA ISLAND</td>\n",
       "      <td>CHIEF EXECUTIVES</td>\n",
       "      <td>CHIEF FINANCIAL OFFICER</td>\n",
       "      <td>Y</td>\n",
       "      <td>180502</td>\n",
       "      <td>ALTISOURCE ASSET MANAGEMENT CORPORATION</td>\n",
       "      <td>-64.70</td>\n",
       "      <td>17.75</td>\n",
       "    </tr>\n",
       "    <tr>\n",
       "      <th>262</th>\n",
       "      <td>WITHDRAWN</td>\n",
       "      <td>2016</td>\n",
       "      <td>MARIANA ISLAND</td>\n",
       "      <td>CHIEF EXECUTIVES</td>\n",
       "      <td>SENIOR VICE PRESIDENT OF HOTEL OPERATIONS</td>\n",
       "      <td>Y</td>\n",
       "      <td>165920</td>\n",
       "      <td>IMPERIAL PACIFIC INTERNATIONAL CNMI</td>\n",
       "      <td>145.73</td>\n",
       "      <td>15.15</td>\n",
       "    </tr>\n",
       "    <tr>\n",
       "      <th>264</th>\n",
       "      <td>WITHDRAWN</td>\n",
       "      <td>2016</td>\n",
       "      <td>MARIANA ISLAND</td>\n",
       "      <td>CHIEF EXECUTIVES</td>\n",
       "      <td>VICE PRESIDENT OF HOTEL OPERATIONS</td>\n",
       "      <td>Y</td>\n",
       "      <td>165920</td>\n",
       "      <td>IMPERIAL PACIFIC INTERNATIONAL CNMI</td>\n",
       "      <td>145.73</td>\n",
       "      <td>15.15</td>\n",
       "    </tr>\n",
       "    <tr>\n",
       "      <th>271</th>\n",
       "      <td>WITHDRAWN</td>\n",
       "      <td>2016</td>\n",
       "      <td>MARIANA ISLAND</td>\n",
       "      <td>CHIEF EXECUTIVES</td>\n",
       "      <td>SENIOR VICE PRESIDENT, INFORMATION TECHNOLOGY</td>\n",
       "      <td>Y</td>\n",
       "      <td>214790</td>\n",
       "      <td>IMPERIAL PACIFIC INTERNATIONAL CNMI</td>\n",
       "      <td>145.73</td>\n",
       "      <td>15.15</td>\n",
       "    </tr>\n",
       "    <tr>\n",
       "      <th>274</th>\n",
       "      <td>CERTIFIED</td>\n",
       "      <td>2016</td>\n",
       "      <td>MARIANA ISLAND</td>\n",
       "      <td>CHIEF EXECUTIVES</td>\n",
       "      <td>SENIOR VICE PRESIDENT OF HOTEL OPERATIONS</td>\n",
       "      <td>Y</td>\n",
       "      <td>214790</td>\n",
       "      <td>IMPERIAL PACIFIC INTERNATIONAL CNMI</td>\n",
       "      <td>145.73</td>\n",
       "      <td>15.15</td>\n",
       "    </tr>\n",
       "    <tr>\n",
       "      <th>...</th>\n",
       "      <td>...</td>\n",
       "      <td>...</td>\n",
       "      <td>...</td>\n",
       "      <td>...</td>\n",
       "      <td>...</td>\n",
       "      <td>...</td>\n",
       "      <td>...</td>\n",
       "      <td>...</td>\n",
       "      <td>...</td>\n",
       "      <td>...</td>\n",
       "    </tr>\n",
       "    <tr>\n",
       "      <th>2877110</th>\n",
       "      <td>DENIED</td>\n",
       "      <td>2011</td>\n",
       "      <td>MARIANA ISLAND</td>\n",
       "      <td>Teachers and Instructors, All Other*</td>\n",
       "      <td>LANGUAGE INSTRUCTOR</td>\n",
       "      <td>Y</td>\n",
       "      <td>35440</td>\n",
       "      <td>TUMON BAY RESORT &amp; SPA, LLC</td>\n",
       "      <td>144.79</td>\n",
       "      <td>13.50</td>\n",
       "    </tr>\n",
       "    <tr>\n",
       "      <th>2877200</th>\n",
       "      <td>DENIED</td>\n",
       "      <td>2011</td>\n",
       "      <td>MARIANA ISLAND</td>\n",
       "      <td>General and Operations Managers</td>\n",
       "      <td>GENERAL MANAGER</td>\n",
       "      <td>Y</td>\n",
       "      <td>4795086</td>\n",
       "      <td>PSG PROFESSIONAL CORPORATION</td>\n",
       "      <td>145.73</td>\n",
       "      <td>15.15</td>\n",
       "    </tr>\n",
       "    <tr>\n",
       "      <th>2877227</th>\n",
       "      <td>DENIED</td>\n",
       "      <td>2011</td>\n",
       "      <td>MARIANA ISLAND</td>\n",
       "      <td>General and Operations Managers</td>\n",
       "      <td>PROJECT MANAGER II</td>\n",
       "      <td>Y</td>\n",
       "      <td>71822</td>\n",
       "      <td>VEOLIA WATER NORTH AMERICA OPERATING SERVICES,...</td>\n",
       "      <td>-64.70</td>\n",
       "      <td>17.75</td>\n",
       "    </tr>\n",
       "    <tr>\n",
       "      <th>2877619</th>\n",
       "      <td>DENIED</td>\n",
       "      <td>2011</td>\n",
       "      <td>MARIANA ISLAND</td>\n",
       "      <td>Accountants and Auditors</td>\n",
       "      <td>ACCOUNTANT</td>\n",
       "      <td>Y</td>\n",
       "      <td>39478</td>\n",
       "      <td>WHITE COCONUT COMPUTER SERVICES, INC.</td>\n",
       "      <td>145.73</td>\n",
       "      <td>15.15</td>\n",
       "    </tr>\n",
       "    <tr>\n",
       "      <th>2877626</th>\n",
       "      <td>DENIED</td>\n",
       "      <td>2011</td>\n",
       "      <td>MARIANA ISLAND</td>\n",
       "      <td>Appraisers and Assessors of Real Estate</td>\n",
       "      <td>APPRAISERS, REAL ESTATE</td>\n",
       "      <td>Y</td>\n",
       "      <td>22172</td>\n",
       "      <td>PSG PROFESSIONAL CORPORATION</td>\n",
       "      <td>145.73</td>\n",
       "      <td>15.15</td>\n",
       "    </tr>\n",
       "  </tbody>\n",
       "</table>\n",
       "<p>3069 rows × 10 columns</p>\n",
       "</div>"
      ],
      "text/plain": [
       "        CASE_STATUS  YEAR           STATE  \\\n",
       "191       CERTIFIED  2016  MARIANA ISLAND   \n",
       "262       WITHDRAWN  2016  MARIANA ISLAND   \n",
       "264       WITHDRAWN  2016  MARIANA ISLAND   \n",
       "271       WITHDRAWN  2016  MARIANA ISLAND   \n",
       "274       CERTIFIED  2016  MARIANA ISLAND   \n",
       "...             ...   ...             ...   \n",
       "2877110      DENIED  2011  MARIANA ISLAND   \n",
       "2877200      DENIED  2011  MARIANA ISLAND   \n",
       "2877227      DENIED  2011  MARIANA ISLAND   \n",
       "2877619      DENIED  2011  MARIANA ISLAND   \n",
       "2877626      DENIED  2011  MARIANA ISLAND   \n",
       "\n",
       "                                        SOC_NAME  \\\n",
       "191                             CHIEF EXECUTIVES   \n",
       "262                             CHIEF EXECUTIVES   \n",
       "264                             CHIEF EXECUTIVES   \n",
       "271                             CHIEF EXECUTIVES   \n",
       "274                             CHIEF EXECUTIVES   \n",
       "...                                          ...   \n",
       "2877110     Teachers and Instructors, All Other*   \n",
       "2877200          General and Operations Managers   \n",
       "2877227          General and Operations Managers   \n",
       "2877619                 Accountants and Auditors   \n",
       "2877626  Appraisers and Assessors of Real Estate   \n",
       "\n",
       "                                             JOB_TITLE FULL_T  PREV_WAGE  \\\n",
       "191                            CHIEF FINANCIAL OFFICER      Y     180502   \n",
       "262          SENIOR VICE PRESIDENT OF HOTEL OPERATIONS      Y     165920   \n",
       "264                 VICE PRESIDENT OF HOTEL OPERATIONS      Y     165920   \n",
       "271      SENIOR VICE PRESIDENT, INFORMATION TECHNOLOGY      Y     214790   \n",
       "274          SENIOR VICE PRESIDENT OF HOTEL OPERATIONS      Y     214790   \n",
       "...                                                ...    ...        ...   \n",
       "2877110                            LANGUAGE INSTRUCTOR      Y      35440   \n",
       "2877200                                GENERAL MANAGER      Y    4795086   \n",
       "2877227                             PROJECT MANAGER II      Y      71822   \n",
       "2877619                                     ACCOUNTANT      Y      39478   \n",
       "2877626                        APPRAISERS, REAL ESTATE      Y      22172   \n",
       "\n",
       "                                                  EMPLOYER     LON    LAT  \n",
       "191                ALTISOURCE ASSET MANAGEMENT CORPORATION  -64.70  17.75  \n",
       "262                    IMPERIAL PACIFIC INTERNATIONAL CNMI  145.73  15.15  \n",
       "264                    IMPERIAL PACIFIC INTERNATIONAL CNMI  145.73  15.15  \n",
       "271                    IMPERIAL PACIFIC INTERNATIONAL CNMI  145.73  15.15  \n",
       "274                    IMPERIAL PACIFIC INTERNATIONAL CNMI  145.73  15.15  \n",
       "...                                                    ...     ...    ...  \n",
       "2877110                        TUMON BAY RESORT & SPA, LLC  144.79  13.50  \n",
       "2877200                       PSG PROFESSIONAL CORPORATION  145.73  15.15  \n",
       "2877227  VEOLIA WATER NORTH AMERICA OPERATING SERVICES,...  -64.70  17.75  \n",
       "2877619              WHITE COCONUT COMPUTER SERVICES, INC.  145.73  15.15  \n",
       "2877626                       PSG PROFESSIONAL CORPORATION  145.73  15.15  \n",
       "\n",
       "[3069 rows x 10 columns]"
      ]
     },
     "execution_count": 53,
     "metadata": {},
     "output_type": "execute_result"
    }
   ],
   "source": [
    "df[df[\"STATE\"]=='MARIANA ISLAND']"
   ]
  },
  {
   "cell_type": "code",
   "execution_count": 54,
   "metadata": {},
   "outputs": [
    {
     "name": "stdout",
     "output_type": "stream",
     "text": [
      "['ALABAMA', 'ALASKA', 'ARIZONA', 'ARKANSAS', 'CALIFORNIA', 'COLORADO', 'CONNECTICUT', 'DELAWARE', 'DISTRICT OF COLUMBIA', 'FLORIDA', 'GEORGIA', 'HAWAII', 'IDAHO', 'ILLINOIS', 'INDIANA', 'IOWA', 'KANSAS', 'KENTUCKY', 'LOUISIANA', 'MAINE', 'MARIANA ISLAND', 'MARYLAND', 'MASSACHUSETTS', 'MICHIGAN', 'MINNESOTA', 'MISSISSIPPI', 'MISSOURI', 'MONTANA', 'NEBRASKA', 'NEVADA', 'NEW HAMPSHIRE', 'NEW JERSEY', 'NEW MEXICO', 'NEW YORK', 'NORTH CAROLINA', 'NORTH DAKOTA', 'OHIO', 'OKLAHOMA', 'OREGON', 'PENNSYLVANIA', 'PUERTO RICO', 'RHODE ISLAND', 'SOUTH CAROLINA', 'SOUTH DAKOTA', 'TENNESSEE', 'TEXAS', 'UTAH', 'VERMONT', 'VIRGINIA', 'WASHINGTON', 'WEST VIRGINIA', 'WISCONSIN', 'WYOMING']\n"
     ]
    }
   ],
   "source": [
    "states=df[\"STATE\"]\n",
    "print(sorted(states.unique()))"
   ]
  },
  {
   "cell_type": "code",
   "execution_count": 55,
   "metadata": {},
   "outputs": [
    {
     "data": {
      "text/plain": [
       "53"
      ]
     },
     "execution_count": 55,
     "metadata": {},
     "output_type": "execute_result"
    }
   ],
   "source": [
    "(states.nunique())"
   ]
  },
  {
   "cell_type": "code",
   "execution_count": 56,
   "metadata": {},
   "outputs": [
    {
     "data": {
      "image/png": "[encoded data removed]",
      "text/plain": [
       "<Figure size 900x300 with 1 Axes>"
      ]
     },
     "metadata": {},
     "output_type": "display_data"
    }
   ],
   "source": [
    "states = df[\"STATE\"].value_counts().sort_index().index\n",
    "record_counts_p = df[\"STATE\"].value_counts().sort_index().values\n",
    "plt.figure(figsize=(9, 3))\n",
    "colors = plt.cm.viridis(np.linspace(0, 1, len(states)))\n",
    "plt.bar(states, record_counts_p, color=colors, edgecolor=None,alpha=0.5)\n",
    "plt.title(\"Number of Records by State\", fontsize=10)\n",
    "plt.xlabel(\"State\", fontsize=10)\n",
    "plt.ylabel(\"Number of Records\", fontsize=10)\n",
    "plt.xticks(rotation=90, fontsize=8)\n",
    "plt.yticks(fontsize=8)\n",
    "plt.show()"
   ]
  },
  {
   "cell_type": "markdown",
   "metadata": {},
   "source": [
    "# Number of petitions denied by the state"
   ]
  },
  {
   "cell_type": "markdown",
   "metadata": {},
   "source": [
    "__total denied petitions__"
   ]
  },
  {
   "cell_type": "code",
   "execution_count": 57,
   "metadata": {},
   "outputs": [
    {
     "data": {
      "text/plain": [
       "85161"
      ]
     },
     "execution_count": 57,
     "metadata": {},
     "output_type": "execute_result"
    }
   ],
   "source": [
    "denied = df[df.CASE_STATUS == 'DENIED']\n",
    "len(denied)"
   ]
  },
  {
   "cell_type": "code",
   "execution_count": 58,
   "metadata": {},
   "outputs": [],
   "source": [
    "from matplotlib.colors import Colormap"
   ]
  },
  {
   "cell_type": "code",
   "execution_count": 59,
   "metadata": {},
   "outputs": [
    {
     "data": {
      "image/png": "[encoded data removed]",
      "text/plain": [
       "<Figure size 900x300 with 1 Axes>"
      ]
     },
     "metadata": {},
     "output_type": "display_data"
    }
   ],
   "source": [
    "states = denied[\"STATE\"].value_counts().sort_index().index\n",
    "record_counts = denied[\"STATE\"].value_counts().sort_index().values\n",
    "plt.figure(figsize=(9, 3))\n",
    "colors = plt.cm.viridis(np.linspace(-1,1,len(states)))\n",
    "plt.bar(states, record_counts, color=colors, edgecolor=None,alpha=0.5)\n",
    "plt.title(\"Number of Records by State\", fontsize=10)\n",
    "plt.xlabel(\"State\", fontsize=10)\n",
    "plt.ylabel(\"Number of Records\", fontsize=10)\n",
    "plt.xticks(rotation=90, fontsize=8)\n",
    "plt.yticks(fontsize=8)\n",
    "plt.show()"
   ]
  },
  {
   "cell_type": "markdown",
   "metadata": {},
   "source": [
    "## % Rate of Denied Petitions by State "
   ]
  },
  {
   "cell_type": "code",
   "execution_count": 60,
   "metadata": {},
   "outputs": [
    {
     "data": {
      "image/png": "[encoded data removed]",
      "text/plain": [
       "<Figure size 900x300 with 1 Axes>"
      ]
     },
     "metadata": {},
     "output_type": "display_data"
    }
   ],
   "source": [
    "states = denied[\"STATE\"].value_counts().sort_index().index\n",
    "denied_p=record_counts/record_counts_p*100\n",
    "plt.figure(figsize=(9, 3))\n",
    "colors = plt.cm.viridis(np.linspace(-1,1,len(states)))\n",
    "plt.bar(states, denied_p, color=colors, edgecolor=None,alpha=0.5)\n",
    "plt.title(\"Number of Records by State\", fontsize=10)\n",
    "plt.xlabel(\"State\", fontsize=10)\n",
    "plt.ylabel(\"Number of Records\", fontsize=10)\n",
    "plt.xticks(rotation=90, fontsize=8)\n",
    "plt.yticks(fontsize=8)\n",
    "plt.show()"
   ]
  },
  {
   "cell_type": "markdown",
   "metadata": {},
   "source": [
    "#### Find out how many applied for Illinois State and how many how them are Denied "
   ]
  },
  {
   "cell_type": "code",
   "execution_count": 61,
   "metadata": {},
   "outputs": [
    {
     "data": {
      "text/plain": [
       "3612"
      ]
     },
     "execution_count": 61,
     "metadata": {},
     "output_type": "execute_result"
    }
   ],
   "source": [
    "(df[df[\"STATE\"]==\"ILLINOIS\"][\"CASE_STATUS\"]==\"DENIED\").sum()"
   ]
  },
  {
   "cell_type": "markdown",
   "metadata": {},
   "source": [
    "#### How Many People are Certified for Job title 'CHIEF PROCESS OFFICER'  who applied for state  Illinois "
   ]
  },
  {
   "cell_type": "code",
   "execution_count": 62,
   "metadata": {},
   "outputs": [
    {
     "name": "stdout",
     "output_type": "stream",
     "text": [
      "2 petitions for the job of 'CHIEF PROCESS OFFICER' in the state of illinois were certified\n"
     ]
    }
   ],
   "source": [
    "ans=(df[df[\"STATE\"]==\"ILLINOIS\"][\"JOB_TITLE\"]==\"CHIEF PROCESS OFFICER\").sum()\n",
    "print(f\"{ans} petitions for the job of 'CHIEF PROCESS OFFICER' in the state of illinois were certified\")"
   ]
  },
  {
   "cell_type": "code",
   "execution_count": 63,
   "metadata": {},
   "outputs": [
    {
     "data": {
      "text/html": [
       "<div>\n",
       "<style scoped>\n",
       "    .dataframe tbody tr th:only-of-type {\n",
       "        vertical-align: middle;\n",
       "    }\n",
       "\n",
       "    .dataframe tbody tr th {\n",
       "        vertical-align: top;\n",
       "    }\n",
       "\n",
       "    .dataframe thead th {\n",
       "        text-align: right;\n",
       "    }\n",
       "</style>\n",
       "<table border=\"1\" class=\"dataframe\">\n",
       "  <thead>\n",
       "    <tr style=\"text-align: right;\">\n",
       "      <th></th>\n",
       "      <th>CASE_STATUS</th>\n",
       "      <th>YEAR</th>\n",
       "      <th>STATE</th>\n",
       "      <th>SOC_NAME</th>\n",
       "      <th>JOB_TITLE</th>\n",
       "      <th>FULL_T</th>\n",
       "      <th>PREV_WAGE</th>\n",
       "      <th>EMPLOYER</th>\n",
       "      <th>LON</th>\n",
       "      <th>LAT</th>\n",
       "    </tr>\n",
       "  </thead>\n",
       "  <tbody>\n",
       "    <tr>\n",
       "      <th>1256937</th>\n",
       "      <td>CERTIFIED</td>\n",
       "      <td>2014</td>\n",
       "      <td>ILLINOIS</td>\n",
       "      <td>Management Analysts</td>\n",
       "      <td>CHIEF PROCESS OFFICER</td>\n",
       "      <td>Y</td>\n",
       "      <td>67080</td>\n",
       "      <td>LITTLER MENDELSON P.C.</td>\n",
       "      <td>-87.63</td>\n",
       "      <td>41.88</td>\n",
       "    </tr>\n",
       "    <tr>\n",
       "      <th>1272268</th>\n",
       "      <td>CERTIFIED</td>\n",
       "      <td>2014</td>\n",
       "      <td>ILLINOIS</td>\n",
       "      <td>Management Analysts</td>\n",
       "      <td>CHIEF PROCESS OFFICER</td>\n",
       "      <td>Y</td>\n",
       "      <td>67080</td>\n",
       "      <td>LITTLER MENDELSON P.C.</td>\n",
       "      <td>-87.63</td>\n",
       "      <td>41.88</td>\n",
       "    </tr>\n",
       "  </tbody>\n",
       "</table>\n",
       "</div>"
      ],
      "text/plain": [
       "        CASE_STATUS  YEAR     STATE             SOC_NAME  \\\n",
       "1256937   CERTIFIED  2014  ILLINOIS  Management Analysts   \n",
       "1272268   CERTIFIED  2014  ILLINOIS  Management Analysts   \n",
       "\n",
       "                     JOB_TITLE FULL_T  PREV_WAGE                EMPLOYER  \\\n",
       "1256937  CHIEF PROCESS OFFICER      Y      67080  LITTLER MENDELSON P.C.   \n",
       "1272268  CHIEF PROCESS OFFICER      Y      67080  LITTLER MENDELSON P.C.   \n",
       "\n",
       "           LON    LAT  \n",
       "1256937 -87.63  41.88  \n",
       "1272268 -87.63  41.88  "
      ]
     },
     "execution_count": 63,
     "metadata": {},
     "output_type": "execute_result"
    }
   ],
   "source": [
    "filtered_df = df[(df['STATE'] == 'ILLINOIS') & (df['JOB_TITLE'] == 'CHIEF PROCESS OFFICER')]\n",
    "filtered_df"
   ]
  },
  {
   "cell_type": "markdown",
   "metadata": {},
   "source": [
    "# Top 25 Job Titles"
   ]
  },
  {
   "cell_type": "code",
   "execution_count": 64,
   "metadata": {},
   "outputs": [
    {
     "name": "stdout",
     "output_type": "stream",
     "text": [
      "PROGRAMMER ANALYST             243357\n",
      "SOFTWARE ENGINEER              118897\n",
      "COMPUTER PROGRAMMER             68696\n",
      "SYSTEMS ANALYST                 60754\n",
      "SOFTWARE DEVELOPER              41875\n",
      "BUSINESS ANALYST                38781\n",
      "COMPUTER SYSTEMS ANALYST        34036\n",
      "TECHNOLOGY LEAD - US            28307\n",
      "SENIOR SOFTWARE ENGINEER        26617\n",
      "TECHNOLOGY ANALYST - US         26010\n",
      "ASSISTANT PROFESSOR             24436\n",
      "SENIOR CONSULTANT               24120\n",
      "CONSULTANT                      22643\n",
      "PROJECT MANAGER                 19015\n",
      "DATABASE ADMINISTRATOR          16108\n",
      "PHYSICAL THERAPIST              14203\n",
      "RESEARCH ASSOCIATE              13409\n",
      "COMPUTER PROGRAMMER ANALYST     13116\n",
      "ACCOUNTANT                      12934\n",
      "DEVELOPER                       12737\n",
      "ASSOCIATE                       12447\n",
      "ANALYST                         11644\n",
      "LEAD ENGINEER                   11012\n",
      "SENIOR SOFTWARE DEVELOPER       10031\n",
      "SYSTEMS ENGINEER - US           10020\n"
     ]
    }
   ],
   "source": [
    "x=df.JOB_TITLE.value_counts().head(25)\n",
    "print(x.to_string(header=False))"
   ]
  },
  {
   "cell_type": "code",
   "execution_count": 65,
   "metadata": {},
   "outputs": [
    {
     "data": {
      "image/png": "[encoded data removed]",
      "text/plain": [
       "<Figure size 900x300 with 1 Axes>"
      ]
     },
     "metadata": {},
     "output_type": "display_data"
    }
   ],
   "source": [
    "plt.figure(figsize=(9, 3))\n",
    "colors = [tuple(np.random.rand(3,)) for _ in range(25)]\n",
    "plt.bar(x.index, x.values, color=colors, edgecolor=None,alpha=0.5)\n",
    "plt.xticks(rotation=90, fontsize=8)\n",
    "plt.yticks(fontsize=8)\n",
    "plt.show()"
   ]
  },
  {
   "cell_type": "markdown",
   "metadata": {
    "collapsed": true,
    "jupyter": {
     "outputs_hidden": true
    }
   },
   "source": [
    "!!! Great Now Make Your Own Questions and Try to Answer Them !!"
   ]
  }
 ],
 "metadata": {
  "kernelspec": {
   "display_name": "Python 3 (ipykernel)",
   "language": "python",
   "name": "python3"
  },
  "language_info": {
   "codemirror_mode": {
    "name": "ipython",
    "version": 3
   },
   "file_extension": ".py",
   "mimetype": "text/x-python",
   "name": "python",
   "nbconvert_exporter": "python",
   "pygments_lexer": "ipython3",
   "version": "3.12.4"
  }
 },
 "nbformat": 4,
 "nbformat_minor": 4
}
